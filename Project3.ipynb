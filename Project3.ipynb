{
 "cells": [
  {
   "cell_type": "code",
   "execution_count": 175,
   "metadata": {},
   "outputs": [],
   "source": [
    "import pandas as pd\n",
    "import theano\n",
    "import lasagne\n",
    "import numpy as np\n",
    "from theano.tensor import *\n",
    "import time\n",
    "\n",
    "train = pd.read_hdf(\"train.h5\", \"train\")\n",
    "test = pd.read_hdf(\"test.h5\", \"test\")\n",
    "\n",
    "labelnumber=5   # 0 to 4"
   ]
  },
  {
   "cell_type": "code",
   "execution_count": 176,
   "metadata": {},
   "outputs": [
    {
     "name": "stdout",
     "output_type": "stream",
     "text": [
      "(53461L, 100L)\n",
      "('feature selected new dimension is', 79)\n",
      "('train set size', (39659L, 79L), (39659L, 5L))\n",
      "('test set size', (5665L, 79L), (5665L, 5L))\n"
     ]
    },
    {
     "name": "stderr",
     "output_type": "stream",
     "text": [
      "D:\\Program Files\\Miniconda\\lib\\site-packages\\ipykernel\\__main__.py:35: DeprecationWarning: using a non-integer number instead of an integer will result in an error in the future\n",
      "D:\\Program Files\\Miniconda\\lib\\site-packages\\ipykernel\\__main__.py:36: DeprecationWarning: using a non-integer number instead of an integer will result in an error in the future\n",
      "D:\\Program Files\\Miniconda\\lib\\site-packages\\ipykernel\\__main__.py:37: DeprecationWarning: using a non-integer number instead of an integer will result in an error in the future\n",
      "D:\\Program Files\\Miniconda\\lib\\site-packages\\ipykernel\\__main__.py:38: DeprecationWarning: using a non-integer number instead of an integer will result in an error in the future\n"
     ]
    }
   ],
   "source": [
    "# convert from dataframe to numpy array\n",
    "y_train = train.y.as_matrix()\n",
    "\n",
    "X_train = train.iloc[:,1:101].as_matrix()\n",
    "X_test= test.as_matrix()\n",
    "X = np.concatenate((X_train, X_test), 0)\n",
    "\n",
    "print(X.shape)\n",
    "\n",
    "# drop feature with too small standard deviation\n",
    "drop_feature = np.where(X.std(axis=0)<0.005)\n",
    "X = np.delete(X, drop_feature, axis=1)\n",
    "\n",
    "dimension = X.shape[1]\n",
    "print (\"feature selected new dimension is\", int(dimension))\n",
    "\n",
    "from sklearn.preprocessing import scale\n",
    "X = scale(X, axis=0)\n",
    "X_train = X [0:X_train.shape[0],:]\n",
    "X_test  = X [X_train.shape[0]:X.shape[0],:]\n",
    "\n",
    "# divide into train set and eval set\n",
    "num_sample = y_train.shape[0]\n",
    "\n",
    "# turn y_train into binary matrix\n",
    "# here Y is capital because a matrix\n",
    "Y_train = np.zeros((y_train.shape[0],5))\n",
    "Y_train[np.arange(0, num_sample), y_train] = 1\n",
    "\n",
    "# take 1/8 for evaluation\n",
    "num_eval = np.rint(num_sample/8)  \n",
    "num_train = num_sample-num_eval\n",
    "\n",
    "\n",
    "X_val = X_train[num_train:num_sample]\n",
    "X_train = X_train[0:num_train]\n",
    "Y_val = Y_train[num_train:num_sample].astype(int) \n",
    "Y_train = Y_train[0:num_train].astype(int) \n",
    "\n",
    "print('train set size', X_train.shape, Y_train.shape)\n",
    "print('test set size', X_val.shape, Y_val.shape)"
   ]
  },
  {
   "cell_type": "code",
   "execution_count": 177,
   "metadata": {},
   "outputs": [],
   "source": [
    "def build_mlp(input_var=None):\n",
    "    l_in = lasagne.layers.InputLayer(shape=(None, dimension),\n",
    "                                     input_var=input_var)\n",
    "    \n",
    "    l_in_drop = lasagne.layers.DropoutLayer(l_in, p=0.2)\n",
    "    \n",
    "    l_hid1 = lasagne.layers.DenseLayer(\n",
    "        l_in_drop, num_units=200,\n",
    "        nonlinearity=lasagne.nonlinearities.rectify,\n",
    "        W=lasagne.init.GlorotUniform())\n",
    "    \n",
    "    l_hid1_drop = lasagne.layers.DropoutLayer(l_hid1, p=0.5)\n",
    "\n",
    "    l_hid2 = lasagne.layers.DenseLayer(\n",
    "        l_hid1_drop, num_units=200,\n",
    "        nonlinearity=lasagne.nonlinearities.rectify)\n",
    "\n",
    "    l_hid2_drop = lasagne.layers.DropoutLayer(l_hid2, p=0.5)\n",
    "    \n",
    "    l_out = lasagne.layers.DenseLayer(\n",
    "        l_hid2_drop, num_units=5,\n",
    "        nonlinearity=lasagne.nonlinearities.softmax)\n",
    "    \n",
    "    return l_out"
   ]
  },
  {
   "cell_type": "code",
   "execution_count": 178,
   "metadata": {},
   "outputs": [],
   "source": [
    "# Prepare Theano variables for inputs and targets\n",
    "input_var = dmatrix('input_var')\n",
    "target_var = imatrix('target_var')\n",
    "# Create neural network model\n",
    "\n",
    "network = build_mlp(input_var)\n",
    "prediction = lasagne.layers.get_output(network)\n",
    "# define loss function\n",
    "loss = lasagne.objectives.categorical_crossentropy(prediction, target_var)\n",
    "loss = loss.mean()\n",
    "\n",
    "# update weights\n",
    "params = lasagne.layers.get_all_params(network, trainable=True)\n",
    "updates = lasagne.updates.nesterov_momentum(\n",
    "        loss, params, learning_rate=0.01, momentum=0.9)\n",
    "\n",
    "test_prediction = lasagne.layers.get_output(network, deterministic=True)\n",
    "\n",
    "\n",
    "test_loss = lasagne.objectives.categorical_crossentropy(test_prediction,\n",
    "                                                        target_var)\n",
    "test_loss = test_loss.mean()\n",
    "\n",
    "test_acc = T.mean(T.eq(T.argmax(test_prediction, axis=1), target_var),\n",
    "                  dtype=theano.config.floatX)"
   ]
  },
  {
   "cell_type": "code",
   "execution_count": 179,
   "metadata": {},
   "outputs": [],
   "source": [
    "train_fn = theano.function([input_var, target_var], loss, updates=updates)\n",
    "val_fn = theano.function([input_var, target_var], [test_loss, test_acc])"
   ]
  },
  {
   "cell_type": "code",
   "execution_count": 180,
   "metadata": {},
   "outputs": [],
   "source": [
    "def iterate_minibatches(inputs, targets, batchsize, shuffle=False):\n",
    "    assert len(inputs) == len(targets)\n",
    "    if shuffle:\n",
    "        indices = np.arange(len(inputs))\n",
    "        np.random.shuffle(indices)\n",
    "    for start_idx in range(0, len(inputs) - batchsize + 1, batchsize):\n",
    "        if shuffle:\n",
    "            excerpt = indices[start_idx:start_idx + batchsize]\n",
    "        else:\n",
    "            excerpt = slice(start_idx, start_idx + batchsize)\n",
    "        yield inputs[excerpt], targets[excerpt]"
   ]
  },
  {
   "cell_type": "code",
   "execution_count": null,
   "metadata": {},
   "outputs": [],
   "source": [
    "num_epochs = 10\n",
    "batchsize = 500\n",
    "for epoch in range(num_epochs):\n",
    "    # In each epoch, we do a full pass over the training data:\n",
    "    train_err = 0\n",
    "    train_batches = 0\n",
    "    start_time = time.time()\n",
    "    for batch in iterate_minibatches(X_train, Y_train, 500, shuffle=True):\n",
    "        inputs, targets = batch\n",
    "        train_err += train_fn(inputs, targets)\n",
    "        train_batches += 1\n",
    "\n",
    "    # And a full pass over the validation data:\n",
    "    val_err = 0\n",
    "    val_acc = 0\n",
    "    val_batches = 0\n",
    "    for batch in iterate_minibatches(X_val, Y_val, 500, shuffle=False):\n",
    "        inputs, targets = batch\n",
    "        err, acc = val_fn(inputs, targets)\n",
    "        val_err += err\n",
    "        val_acc += acc\n",
    "        val_batches += 1\n",
    "\n",
    "    # Then we print the results for this epoch:\n",
    "    print(\"Epoch {} of {} took {:.3f}s\".format(\n",
    "        epoch + 1, num_epochs, time.time() - start_time))\n",
    "    print(\"  training loss:\\t\\t{:.6f}\".format(train_err / train_batches))\n",
    "    print(\"  validation loss:\\t\\t{:.6f}\".format(val_err / val_batches))\n",
    "    print(\"  validation accuracy:\\t\\t{:.2f} %\".format(\n",
    "        val_acc / val_batches * 100))"
   ]
  },
  {
   "cell_type": "raw",
   "metadata": {}
  },
  {
   "cell_type": "code",
   "execution_count": null,
   "metadata": {},
   "outputs": [],
   "source": []
  }
 ],
 "metadata": {
  "kernelspec": {
   "display_name": "Python 2",
   "language": "python",
   "name": "python2"
  },
  "language_info": {
   "codemirror_mode": {
    "name": "ipython",
    "version": 2.0
   },
   "file_extension": ".py",
   "mimetype": "text/x-python",
   "name": "python",
   "nbconvert_exporter": "python",
   "pygments_lexer": "ipython2",
   "version": "2.7.11"
  }
 },
 "nbformat": 4,
 "nbformat_minor": 0
}