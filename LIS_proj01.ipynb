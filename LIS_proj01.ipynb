{
 "cells": [
  {
   "cell_type": "code",
   "execution_count": 99,
   "metadata": {
    "collapsed": true
   },
   "outputs": [],
   "source": [
    "%matplotlib inline\n",
    "from __future__ import print_function"
   ]
  },
  {
   "cell_type": "code",
   "execution_count": 172,
   "metadata": {
    "collapsed": true
   },
   "outputs": [],
   "source": [
    "import pandas as pd\n",
    "from sklearn.ensemble import AdaBoostClassifier, GradientBoostingClassifier, ExtraTreesClassifier\n",
    "from sklearn.svm import SVC\n",
    "#from sklearn.cross_validation import cross_val_score, KFold, StratifiedKFold\n",
    "from sklearn.metrics import confusion_matrix\n",
    "from scipy.stats import sem\n",
    "import math\n",
    "import numpy as np\n",
    "import matplotlib.pyplot as plt\n",
    "\n",
    "# Contains linear models, e.g., linear regression, ridge regression, LASSO, etc.\n",
    "import sklearn.linear_model as sklin\n",
    "# Provides train-test split, cross-validation, etc.\n",
    "import sklearn.cross_validation as skcv\n",
    "# Provides grid search functionality\n",
    "import sklearn.grid_search as skgs\n",
    "# For data normalization\n",
    "import sklearn.preprocessing as skpr\n",
    "# Allows us to create custom scoring functions\n",
    "import sklearn.metrics as skmet"
   ]
  },
  {
   "cell_type": "code",
   "execution_count": 101,
   "metadata": {
    "collapsed": true
   },
   "outputs": [],
   "source": [
    "def score(gtruth, pred):\n",
    "    diff = gtruth - pred\n",
    "    return np.sqrt(np.mean(np.square(diff)))"
   ]
  },
  {
   "cell_type": "code",
   "execution_count": 102,
   "metadata": {
    "collapsed": true
   },
   "outputs": [],
   "source": [
    "def eval_pred(predictor, X, y, K=3):\n",
    "    #ret = {}\n",
    "    #scores = cross_val_score(pred, X, y, cv = 3)\n",
    "    #print (scores)\n",
    "    #print (\"CV score: %.4f +/- %.4f\" % (np.mean(scores), sem(scores)))  \n",
    "    scorefun = skmet.make_scorer(score)\n",
    "    scores = skcv.cross_val_score(predictor, X, y, scoring=scorefun, cv=10)\n",
    "    print('C-V score =', np.mean(scores), '+/-', np.std(scores))"
   ]
  },
  {
   "cell_type": "markdown",
   "metadata": {},
   "source": [
    "# [read file]"
   ]
  },
  {
   "cell_type": "code",
   "execution_count": 228,
   "metadata": {
    "collapsed": true
   },
   "outputs": [],
   "source": [
    "X = pd.read_csv('train.csv')\n",
    "#X.names=['id', 'y', 'x1','x2', 'x3', 'x4', 'x5', 'x6', 'x7', 'x8', 'x9', 'x10', 'x11', 'x12', 'x13', 'x14', 'x15'])\n",
    "#del X['id']\n",
    "#y = X.cls\n",
    "#del X['cls']"
   ]
  },
  {
   "cell_type": "code",
   "execution_count": 229,
   "metadata": {
    "collapsed": false
   },
   "outputs": [
    {
     "data": {
      "text/html": [
       "<div>\n",
       "<table border=\"1\" class=\"dataframe\">\n",
       "  <thead>\n",
       "    <tr style=\"text-align: right;\">\n",
       "      <th></th>\n",
       "      <th>x1</th>\n",
       "      <th>x2</th>\n",
       "      <th>x3</th>\n",
       "      <th>x4</th>\n",
       "      <th>x5</th>\n",
       "      <th>x6</th>\n",
       "      <th>x7</th>\n",
       "      <th>x8</th>\n",
       "      <th>x9</th>\n",
       "      <th>x10</th>\n",
       "      <th>x11</th>\n",
       "      <th>x12</th>\n",
       "      <th>x13</th>\n",
       "      <th>x14</th>\n",
       "      <th>x15</th>\n",
       "    </tr>\n",
       "  </thead>\n",
       "  <tbody>\n",
       "    <tr>\n",
       "      <th>0</th>\n",
       "      <td>2.764052</td>\n",
       "      <td>1.400157</td>\n",
       "      <td>1.978738</td>\n",
       "      <td>3.240893</td>\n",
       "      <td>2.867558</td>\n",
       "      <td>0.022722</td>\n",
       "      <td>1.950088</td>\n",
       "      <td>0.848643</td>\n",
       "      <td>0.896781</td>\n",
       "      <td>1.410599</td>\n",
       "      <td>1.144044</td>\n",
       "      <td>2.454274</td>\n",
       "      <td>1.761038</td>\n",
       "      <td>1.121675</td>\n",
       "      <td>1.443863</td>\n",
       "    </tr>\n",
       "    <tr>\n",
       "      <th>1</th>\n",
       "      <td>1.333674</td>\n",
       "      <td>2.494079</td>\n",
       "      <td>0.794842</td>\n",
       "      <td>1.313068</td>\n",
       "      <td>0.145904</td>\n",
       "      <td>-1.552990</td>\n",
       "      <td>1.653619</td>\n",
       "      <td>1.864436</td>\n",
       "      <td>0.257835</td>\n",
       "      <td>3.269755</td>\n",
       "      <td>-0.454366</td>\n",
       "      <td>1.045759</td>\n",
       "      <td>0.812816</td>\n",
       "      <td>2.532779</td>\n",
       "      <td>2.469359</td>\n",
       "    </tr>\n",
       "    <tr>\n",
       "      <th>2</th>\n",
       "      <td>1.154947</td>\n",
       "      <td>1.378163</td>\n",
       "      <td>0.112214</td>\n",
       "      <td>-0.980796</td>\n",
       "      <td>0.652088</td>\n",
       "      <td>1.156349</td>\n",
       "      <td>2.230291</td>\n",
       "      <td>2.202380</td>\n",
       "      <td>0.612673</td>\n",
       "      <td>0.697697</td>\n",
       "      <td>-0.048553</td>\n",
       "      <td>-0.420018</td>\n",
       "      <td>-0.706270</td>\n",
       "      <td>2.950775</td>\n",
       "      <td>0.490348</td>\n",
       "    </tr>\n",
       "    <tr>\n",
       "      <th>3</th>\n",
       "      <td>0.561926</td>\n",
       "      <td>-0.252795</td>\n",
       "      <td>1.777490</td>\n",
       "      <td>-0.613898</td>\n",
       "      <td>0.787260</td>\n",
       "      <td>0.104533</td>\n",
       "      <td>1.386902</td>\n",
       "      <td>0.489195</td>\n",
       "      <td>-0.180632</td>\n",
       "      <td>0.971818</td>\n",
       "      <td>1.428332</td>\n",
       "      <td>1.066517</td>\n",
       "      <td>1.302472</td>\n",
       "      <td>0.365678</td>\n",
       "      <td>0.637259</td>\n",
       "    </tr>\n",
       "    <tr>\n",
       "      <th>4</th>\n",
       "      <td>0.327540</td>\n",
       "      <td>0.640447</td>\n",
       "      <td>0.186854</td>\n",
       "      <td>-0.726283</td>\n",
       "      <td>1.177426</td>\n",
       "      <td>0.598219</td>\n",
       "      <td>-0.630198</td>\n",
       "      <td>1.462782</td>\n",
       "      <td>0.092702</td>\n",
       "      <td>1.051945</td>\n",
       "      <td>1.729091</td>\n",
       "      <td>1.128983</td>\n",
       "      <td>2.139401</td>\n",
       "      <td>-0.234826</td>\n",
       "      <td>1.402342</td>\n",
       "    </tr>\n",
       "  </tbody>\n",
       "</table>\n",
       "</div>"
      ]
     },
     "metadata": {},
     "output_type": "execute_result"
    }
   ],
   "source": [
    "del X['Id']\n",
    "y = X.y\n",
    "del X['y']\n",
    "pd.DataFrame(X).head()"
   ]
  },
  {
   "cell_type": "code",
   "execution_count": 230,
   "metadata": {
    "collapsed": true
   },
   "outputs": [],
   "source": [
    "Xtest = pd.read_csv('test.csv')\n",
    "del Xtest['Id']"
   ]
  },
  {
   "cell_type": "code",
   "execution_count": 231,
   "metadata": {
    "collapsed": false
   },
   "outputs": [
    {
     "data": {
      "text/plain": [
       "((900, 15), (900,), (2000, 15))"
      ]
     },
     "execution_count": 231,
     "metadata": {},
     "output_type": "execute_result"
    }
   ],
   "source": [
    "X.shape, y.shape, Xtest.shape"
   ]
  },
  {
   "cell_type": "code",
   "execution_count": 232,
   "metadata": {
    "collapsed": true
   },
   "outputs": [],
   "source": [
    "sub = pd.read_csv('sample.csv')\n",
    "#sub.head()"
   ]
  },
  {
   "cell_type": "markdown",
   "metadata": {},
   "source": [
    "Normalization"
   ]
  },
  {
   "cell_type": "code",
   "execution_count": 233,
   "metadata": {
    "collapsed": true
   },
   "outputs": [],
   "source": [
    "from sklearn.preprocessing import normalize"
   ]
  },
  {
   "cell_type": "code",
   "execution_count": 234,
   "metadata": {
    "collapsed": false
   },
   "outputs": [
    {
     "data": {
      "text/plain": [
       "((2900, 15), (900, 15))"
      ]
     },
     "execution_count": 234,
     "metadata": {},
     "output_type": "execute_result"
    }
   ],
   "source": [
    "XX = X.append(Xtest)\n",
    "XX = normalize(XX)\n",
    "XX.shape, X.shape"
   ]
  },
  {
   "cell_type": "code",
   "execution_count": 235,
   "metadata": {
    "collapsed": true
   },
   "outputs": [],
   "source": [
    "#pd.DataFrame(XX).head()"
   ]
  },
  {
   "cell_type": "code",
   "execution_count": 236,
   "metadata": {
    "collapsed": true
   },
   "outputs": [],
   "source": [
    "Xn = XX[:X.shape[0],:]\n",
    "Xtn = XX[X.shape[0]:,:]"
   ]
  },
  {
   "cell_type": "code",
   "execution_count": 237,
   "metadata": {
    "collapsed": true
   },
   "outputs": [],
   "source": [
    "#pd.DataFrame(Xn).head()"
   ]
  },
  {
   "cell_type": "code",
   "execution_count": 238,
   "metadata": {
    "collapsed": true
   },
   "outputs": [],
   "source": [
    "#pd.DataFrame(Xtn).head()"
   ]
  },
  {
   "cell_type": "markdown",
   "metadata": {},
   "source": [
    "Train Classifier"
   ]
  },
  {
   "cell_type": "code",
   "execution_count": 239,
   "metadata": {
    "collapsed": false
   },
   "outputs": [
    {
     "data": {
      "text/plain": [
       "((900, 15), (900,))"
      ]
     },
     "execution_count": 239,
     "metadata": {},
     "output_type": "execute_result"
    }
   ],
   "source": [
    "Xn.shape, y.shape"
   ]
  },
  {
   "cell_type": "code",
   "execution_count": 240,
   "metadata": {
    "collapsed": true
   },
   "outputs": [],
   "source": [
    "#pd.DataFrame(Xn).head()"
   ]
  },
  {
   "cell_type": "code",
   "execution_count": 241,
   "metadata": {
    "collapsed": false
   },
   "outputs": [
    {
     "data": {
      "text/html": [
       "<div>\n",
       "<table border=\"1\" class=\"dataframe\">\n",
       "  <thead>\n",
       "    <tr style=\"text-align: right;\">\n",
       "      <th></th>\n",
       "      <th>y</th>\n",
       "    </tr>\n",
       "  </thead>\n",
       "  <tbody>\n",
       "    <tr>\n",
       "      <th>0</th>\n",
       "      <td>56.140939</td>\n",
       "    </tr>\n",
       "    <tr>\n",
       "      <th>1</th>\n",
       "      <td>67.986654</td>\n",
       "    </tr>\n",
       "    <tr>\n",
       "      <th>2</th>\n",
       "      <td>105.711484</td>\n",
       "    </tr>\n",
       "    <tr>\n",
       "      <th>3</th>\n",
       "      <td>14.703316</td>\n",
       "    </tr>\n",
       "    <tr>\n",
       "      <th>4</th>\n",
       "      <td>8.868234</td>\n",
       "    </tr>\n",
       "  </tbody>\n",
       "</table>\n",
       "</div>"
      ]
     },
     "metadata": {},
     "output_type": "execute_result"
    }
   ],
   "source": [
    "pd.DataFrame(y).head()"
   ]
  },
  {
   "cell_type": "markdown",
   "metadata": {},
   "source": [
    "# [correlations of variables with prediction ]"
   ]
  },
  {
   "cell_type": "code",
   "execution_count": 403,
   "metadata": {
    "collapsed": false
   },
   "outputs": [
    {
     "name": "stdout",
     "output_type": "stream",
     "text": [
      "features 15 correlations 16\n",
      "        x1 +0.1031\n",
      "        x2 +0.0001\n",
      "        x3 -0.0887\n",
      "        x4 +0.0327\n",
      "        x5 -0.0485\n",
      "        x6 +0.1429\n",
      "        x7 +0.2581\n",
      "        x8 +0.0219\n",
      "        x9 -0.0245\n",
      "       x10 -0.1692\n",
      "       x11 -0.0265\n",
      "       x12 +0.1708\n",
      "       x13 -0.2787\n",
      "       x14 +0.3736\n",
      "       x15 +0.1323\n",
      "    OUTPUT +1.0000\n"
     ]
    }
   ],
   "source": [
    "XYtrain = np.vstack((Xn.T, np.atleast_2d(y)))\n",
    "correlations = np.corrcoef(XYtrain)[-1, :]\n",
    "feature_names=['x1','x2', 'x3', 'x4', 'x5', 'x6', 'x7', 'x8', 'x9', 'x10', 'x11', 'x12', 'x13', 'x14', 'x15']\n",
    "feature_sel = []\n",
    "print('features', len(feature_names), 'correlations', len(correlations))\n",
    "i = 0\n",
    "feature_vec = np.zeros(15)\n",
    "for feature_name, correlation in zip(feature_names, correlations):\n",
    "    if abs(correlation) > 0.02:\n",
    "        feature_sel.append(feature_name)\n",
    "        feature_vec[i] = 1\n",
    "    print('{0:>10} {1:+.4f}'.format(feature_name, correlation))\n",
    "    i += 1\n",
    "print('{0:>10} {1:+.4f}'.format('OUTPUT', correlations[-1]))"
   ]
  },
  {
   "cell_type": "code",
   "execution_count": 404,
   "metadata": {
    "collapsed": false
   },
   "outputs": [
    {
     "data": {
      "text/plain": [
       "array([ 1.,  0.,  1.,  1.,  1.,  1.,  1.,  1.,  1.,  1.,  1.,  1.,  1.,\n",
       "        1.,  1.])"
      ]
     },
     "execution_count": 404,
     "metadata": {},
     "output_type": "execute_result"
    }
   ],
   "source": [
    "feature_vec"
   ]
  },
  {
   "cell_type": "code",
   "execution_count": 405,
   "metadata": {
    "collapsed": false
   },
   "outputs": [
    {
     "data": {
      "text/plain": [
       "(2900, 15)"
      ]
     },
     "execution_count": 405,
     "metadata": {},
     "output_type": "execute_result"
    }
   ],
   "source": [
    "XX_sel = XX*feature_vec.T\n",
    "pd.DataFrame(XX_sel).head()\n",
    "XX_sel.shape"
   ]
  },
  {
   "cell_type": "code",
   "execution_count": 406,
   "metadata": {
    "collapsed": false
   },
   "outputs": [
    {
     "data": {
      "text/html": [
       "<div>\n",
       "<table border=\"1\" class=\"dataframe\">\n",
       "  <thead>\n",
       "    <tr style=\"text-align: right;\">\n",
       "      <th></th>\n",
       "      <th>0</th>\n",
       "      <th>1</th>\n",
       "      <th>2</th>\n",
       "      <th>3</th>\n",
       "      <th>4</th>\n",
       "      <th>5</th>\n",
       "      <th>6</th>\n",
       "      <th>7</th>\n",
       "      <th>8</th>\n",
       "      <th>9</th>\n",
       "      <th>10</th>\n",
       "      <th>11</th>\n",
       "      <th>12</th>\n",
       "      <th>13</th>\n",
       "      <th>14</th>\n",
       "    </tr>\n",
       "  </thead>\n",
       "  <tbody>\n",
       "    <tr>\n",
       "      <th>0</th>\n",
       "      <td>0.378474</td>\n",
       "      <td>0</td>\n",
       "      <td>0.270943</td>\n",
       "      <td>0.443766</td>\n",
       "      <td>0.392646</td>\n",
       "      <td>0.003111</td>\n",
       "      <td>0.267020</td>\n",
       "      <td>0.116202</td>\n",
       "      <td>0.122794</td>\n",
       "      <td>0.193149</td>\n",
       "      <td>0.156651</td>\n",
       "      <td>0.336056</td>\n",
       "      <td>0.241134</td>\n",
       "      <td>0.153588</td>\n",
       "      <td>0.197704</td>\n",
       "    </tr>\n",
       "    <tr>\n",
       "      <th>1</th>\n",
       "      <td>0.200536</td>\n",
       "      <td>0</td>\n",
       "      <td>0.119515</td>\n",
       "      <td>0.197437</td>\n",
       "      <td>0.021939</td>\n",
       "      <td>-0.233513</td>\n",
       "      <td>0.248644</td>\n",
       "      <td>0.280343</td>\n",
       "      <td>0.038769</td>\n",
       "      <td>0.491651</td>\n",
       "      <td>-0.068320</td>\n",
       "      <td>0.157244</td>\n",
       "      <td>0.122218</td>\n",
       "      <td>0.380837</td>\n",
       "      <td>0.371301</td>\n",
       "    </tr>\n",
       "    <tr>\n",
       "      <th>2</th>\n",
       "      <td>0.225285</td>\n",
       "      <td>0</td>\n",
       "      <td>0.021889</td>\n",
       "      <td>-0.191315</td>\n",
       "      <td>0.127197</td>\n",
       "      <td>0.225558</td>\n",
       "      <td>0.435042</td>\n",
       "      <td>0.429598</td>\n",
       "      <td>0.119509</td>\n",
       "      <td>0.136093</td>\n",
       "      <td>-0.009471</td>\n",
       "      <td>-0.081929</td>\n",
       "      <td>-0.137766</td>\n",
       "      <td>0.575581</td>\n",
       "      <td>0.095648</td>\n",
       "    </tr>\n",
       "    <tr>\n",
       "      <th>3</th>\n",
       "      <td>0.155252</td>\n",
       "      <td>-0</td>\n",
       "      <td>0.491094</td>\n",
       "      <td>-0.169611</td>\n",
       "      <td>0.217508</td>\n",
       "      <td>0.028881</td>\n",
       "      <td>0.383180</td>\n",
       "      <td>0.135157</td>\n",
       "      <td>-0.049906</td>\n",
       "      <td>0.268499</td>\n",
       "      <td>0.394627</td>\n",
       "      <td>0.294663</td>\n",
       "      <td>0.359853</td>\n",
       "      <td>0.101031</td>\n",
       "      <td>0.176065</td>\n",
       "    </tr>\n",
       "    <tr>\n",
       "      <th>4</th>\n",
       "      <td>0.078659</td>\n",
       "      <td>0</td>\n",
       "      <td>0.044873</td>\n",
       "      <td>-0.174418</td>\n",
       "      <td>0.282761</td>\n",
       "      <td>0.143663</td>\n",
       "      <td>-0.151343</td>\n",
       "      <td>0.351289</td>\n",
       "      <td>0.022262</td>\n",
       "      <td>0.252626</td>\n",
       "      <td>0.415244</td>\n",
       "      <td>0.271127</td>\n",
       "      <td>0.513780</td>\n",
       "      <td>-0.056394</td>\n",
       "      <td>0.336774</td>\n",
       "    </tr>\n",
       "  </tbody>\n",
       "</table>\n",
       "</div>"
      ]
     },
     "metadata": {},
     "output_type": "execute_result"
    }
   ],
   "source": [
    "pd.DataFrame(XX_sel).head()"
   ]
  },
  {
   "cell_type": "code",
   "execution_count": 407,
   "metadata": {
    "collapsed": false
   },
   "outputs": [
    {
     "data": {
      "text/plain": [
       "(2900, 14)"
      ]
     },
     "execution_count": 407,
     "metadata": {},
     "output_type": "execute_result"
    }
   ],
   "source": [
    "Xtmp = np.zeros((XX_sel.shape[0],int(feature_vec.sum())))\n",
    "Xtmp.shape"
   ]
  },
  {
   "cell_type": "code",
   "execution_count": 409,
   "metadata": {
    "collapsed": false
   },
   "outputs": [
    {
     "data": {
      "text/html": [
       "<div>\n",
       "<table border=\"1\" class=\"dataframe\">\n",
       "  <thead>\n",
       "    <tr style=\"text-align: right;\">\n",
       "      <th></th>\n",
       "      <th>0</th>\n",
       "      <th>1</th>\n",
       "      <th>2</th>\n",
       "      <th>3</th>\n",
       "      <th>4</th>\n",
       "      <th>5</th>\n",
       "      <th>6</th>\n",
       "      <th>7</th>\n",
       "      <th>8</th>\n",
       "      <th>9</th>\n",
       "      <th>10</th>\n",
       "      <th>11</th>\n",
       "      <th>12</th>\n",
       "      <th>13</th>\n",
       "    </tr>\n",
       "  </thead>\n",
       "  <tbody>\n",
       "    <tr>\n",
       "      <th>0</th>\n",
       "      <td>0.378474</td>\n",
       "      <td>0.270943</td>\n",
       "      <td>0.443766</td>\n",
       "      <td>0.392646</td>\n",
       "      <td>0.003111</td>\n",
       "      <td>0.267020</td>\n",
       "      <td>0.116202</td>\n",
       "      <td>0.122794</td>\n",
       "      <td>0.193149</td>\n",
       "      <td>0.156651</td>\n",
       "      <td>0.336056</td>\n",
       "      <td>0.241134</td>\n",
       "      <td>0.153588</td>\n",
       "      <td>0.197704</td>\n",
       "    </tr>\n",
       "    <tr>\n",
       "      <th>1</th>\n",
       "      <td>0.200536</td>\n",
       "      <td>0.119515</td>\n",
       "      <td>0.197437</td>\n",
       "      <td>0.021939</td>\n",
       "      <td>-0.233513</td>\n",
       "      <td>0.248644</td>\n",
       "      <td>0.280343</td>\n",
       "      <td>0.038769</td>\n",
       "      <td>0.491651</td>\n",
       "      <td>-0.068320</td>\n",
       "      <td>0.157244</td>\n",
       "      <td>0.122218</td>\n",
       "      <td>0.380837</td>\n",
       "      <td>0.371301</td>\n",
       "    </tr>\n",
       "    <tr>\n",
       "      <th>2</th>\n",
       "      <td>0.225285</td>\n",
       "      <td>0.021889</td>\n",
       "      <td>-0.191315</td>\n",
       "      <td>0.127197</td>\n",
       "      <td>0.225558</td>\n",
       "      <td>0.435042</td>\n",
       "      <td>0.429598</td>\n",
       "      <td>0.119509</td>\n",
       "      <td>0.136093</td>\n",
       "      <td>-0.009471</td>\n",
       "      <td>-0.081929</td>\n",
       "      <td>-0.137766</td>\n",
       "      <td>0.575581</td>\n",
       "      <td>0.095648</td>\n",
       "    </tr>\n",
       "    <tr>\n",
       "      <th>3</th>\n",
       "      <td>0.155252</td>\n",
       "      <td>0.491094</td>\n",
       "      <td>-0.169611</td>\n",
       "      <td>0.217508</td>\n",
       "      <td>0.028881</td>\n",
       "      <td>0.383180</td>\n",
       "      <td>0.135157</td>\n",
       "      <td>-0.049906</td>\n",
       "      <td>0.268499</td>\n",
       "      <td>0.394627</td>\n",
       "      <td>0.294663</td>\n",
       "      <td>0.359853</td>\n",
       "      <td>0.101031</td>\n",
       "      <td>0.176065</td>\n",
       "    </tr>\n",
       "    <tr>\n",
       "      <th>4</th>\n",
       "      <td>0.078659</td>\n",
       "      <td>0.044873</td>\n",
       "      <td>-0.174418</td>\n",
       "      <td>0.282761</td>\n",
       "      <td>0.143663</td>\n",
       "      <td>-0.151343</td>\n",
       "      <td>0.351289</td>\n",
       "      <td>0.022262</td>\n",
       "      <td>0.252626</td>\n",
       "      <td>0.415244</td>\n",
       "      <td>0.271127</td>\n",
       "      <td>0.513780</td>\n",
       "      <td>-0.056394</td>\n",
       "      <td>0.336774</td>\n",
       "    </tr>\n",
       "  </tbody>\n",
       "</table>\n",
       "</div>"
      ]
     },
     "metadata": {},
     "output_type": "execute_result"
    }
   ],
   "source": [
    "j = 0\n",
    "for i in range(XX_sel.shape[1]):\n",
    "    if XX_sel[:,i].sum() != 0:\n",
    "        tmp.append(XX_sel[:,i])\n",
    "        Xtmp[:,j] = XX_sel[:,i]\n",
    "        j+=1\n",
    "pd.DataFrame(Xtmp).head()"
   ]
  },
  {
   "cell_type": "code",
   "execution_count": 410,
   "metadata": {
    "collapsed": true
   },
   "outputs": [],
   "source": [
    "XXXn = Xtmp[:X.shape[0],:]\n",
    "XXXtn = Xtmp[X.shape[0]:,:]"
   ]
  },
  {
   "cell_type": "code",
   "execution_count": 411,
   "metadata": {
    "collapsed": false
   },
   "outputs": [
    {
     "data": {
      "text/plain": [
       "((900, 14), (2000, 14))"
      ]
     },
     "execution_count": 411,
     "metadata": {},
     "output_type": "execute_result"
    }
   ],
   "source": [
    "XXXn.shape, XXXtn.shape"
   ]
  },
  {
   "cell_type": "markdown",
   "metadata": {},
   "source": [
    "following is just an elegant way to remove zero columns, but not working yet."
   ]
  },
  {
   "cell_type": "code",
   "execution_count": 387,
   "metadata": {
    "collapsed": false
   },
   "outputs": [
    {
     "data": {
      "text/html": [
       "<div>\n",
       "<table border=\"1\" class=\"dataframe\">\n",
       "  <thead>\n",
       "    <tr style=\"text-align: right;\">\n",
       "      <th></th>\n",
       "      <th>0</th>\n",
       "      <th>1</th>\n",
       "      <th>2</th>\n",
       "      <th>3</th>\n",
       "      <th>4</th>\n",
       "      <th>5</th>\n",
       "      <th>6</th>\n",
       "      <th>7</th>\n",
       "      <th>8</th>\n",
       "      <th>9</th>\n",
       "      <th>10</th>\n",
       "      <th>11</th>\n",
       "      <th>12</th>\n",
       "      <th>13</th>\n",
       "      <th>14</th>\n",
       "    </tr>\n",
       "  </thead>\n",
       "  <tbody>\n",
       "    <tr>\n",
       "      <th>0</th>\n",
       "      <td>0.378474</td>\n",
       "      <td>0</td>\n",
       "      <td>0.270943</td>\n",
       "      <td>0.443766</td>\n",
       "      <td>0.392646</td>\n",
       "      <td>0.003111</td>\n",
       "      <td>0.267020</td>\n",
       "      <td>0</td>\n",
       "      <td>0</td>\n",
       "      <td>0.193149</td>\n",
       "      <td>0</td>\n",
       "      <td>0.336056</td>\n",
       "      <td>0.241134</td>\n",
       "      <td>0.153588</td>\n",
       "      <td>0.197704</td>\n",
       "    </tr>\n",
       "    <tr>\n",
       "      <th>1</th>\n",
       "      <td>0.200536</td>\n",
       "      <td>0</td>\n",
       "      <td>0.119515</td>\n",
       "      <td>0.197437</td>\n",
       "      <td>0.021939</td>\n",
       "      <td>-0.233513</td>\n",
       "      <td>0.248644</td>\n",
       "      <td>0</td>\n",
       "      <td>0</td>\n",
       "      <td>0.491651</td>\n",
       "      <td>-0</td>\n",
       "      <td>0.157244</td>\n",
       "      <td>0.122218</td>\n",
       "      <td>0.380837</td>\n",
       "      <td>0.371301</td>\n",
       "    </tr>\n",
       "    <tr>\n",
       "      <th>2</th>\n",
       "      <td>0.225285</td>\n",
       "      <td>0</td>\n",
       "      <td>0.021889</td>\n",
       "      <td>-0.191315</td>\n",
       "      <td>0.127197</td>\n",
       "      <td>0.225558</td>\n",
       "      <td>0.435042</td>\n",
       "      <td>0</td>\n",
       "      <td>0</td>\n",
       "      <td>0.136093</td>\n",
       "      <td>-0</td>\n",
       "      <td>-0.081929</td>\n",
       "      <td>-0.137766</td>\n",
       "      <td>0.575581</td>\n",
       "      <td>0.095648</td>\n",
       "    </tr>\n",
       "    <tr>\n",
       "      <th>3</th>\n",
       "      <td>0.155252</td>\n",
       "      <td>-0</td>\n",
       "      <td>0.491094</td>\n",
       "      <td>-0.169611</td>\n",
       "      <td>0.217508</td>\n",
       "      <td>0.028881</td>\n",
       "      <td>0.383180</td>\n",
       "      <td>0</td>\n",
       "      <td>-0</td>\n",
       "      <td>0.268499</td>\n",
       "      <td>0</td>\n",
       "      <td>0.294663</td>\n",
       "      <td>0.359853</td>\n",
       "      <td>0.101031</td>\n",
       "      <td>0.176065</td>\n",
       "    </tr>\n",
       "    <tr>\n",
       "      <th>4</th>\n",
       "      <td>0.078659</td>\n",
       "      <td>0</td>\n",
       "      <td>0.044873</td>\n",
       "      <td>-0.174418</td>\n",
       "      <td>0.282761</td>\n",
       "      <td>0.143663</td>\n",
       "      <td>-0.151343</td>\n",
       "      <td>0</td>\n",
       "      <td>0</td>\n",
       "      <td>0.252626</td>\n",
       "      <td>0</td>\n",
       "      <td>0.271127</td>\n",
       "      <td>0.513780</td>\n",
       "      <td>-0.056394</td>\n",
       "      <td>0.336774</td>\n",
       "    </tr>\n",
       "  </tbody>\n",
       "</table>\n",
       "</div>"
      ]
     },
     "metadata": {},
     "output_type": "execute_result"
    }
   ],
   "source": [
    "XXX = pd.DataFrame(XX_sel)\n",
    "XXX.head()"
   ]
  },
  {
   "cell_type": "code",
   "execution_count": 316,
   "metadata": {
    "collapsed": true
   },
   "outputs": [],
   "source": [
    "selection = XXX.ix[:,XXX.sum()!=0]"
   ]
  },
  {
   "cell_type": "code",
   "execution_count": 388,
   "metadata": {
    "collapsed": false
   },
   "outputs": [
    {
     "data": {
      "text/html": [
       "<div>\n",
       "<table border=\"1\" class=\"dataframe\">\n",
       "  <thead>\n",
       "    <tr style=\"text-align: right;\">\n",
       "      <th></th>\n",
       "      <th>0</th>\n",
       "      <th>2</th>\n",
       "      <th>5</th>\n",
       "      <th>6</th>\n",
       "      <th>9</th>\n",
       "      <th>11</th>\n",
       "      <th>12</th>\n",
       "      <th>13</th>\n",
       "      <th>14</th>\n",
       "    </tr>\n",
       "  </thead>\n",
       "  <tbody>\n",
       "    <tr>\n",
       "      <th>0</th>\n",
       "      <td>0.378474</td>\n",
       "      <td>0.270943</td>\n",
       "      <td>0.003111</td>\n",
       "      <td>0.267020</td>\n",
       "      <td>0.193149</td>\n",
       "      <td>0.336056</td>\n",
       "      <td>0.241134</td>\n",
       "      <td>0.153588</td>\n",
       "      <td>0.197704</td>\n",
       "    </tr>\n",
       "    <tr>\n",
       "      <th>1</th>\n",
       "      <td>0.200536</td>\n",
       "      <td>0.119515</td>\n",
       "      <td>-0.233513</td>\n",
       "      <td>0.248644</td>\n",
       "      <td>0.491651</td>\n",
       "      <td>0.157244</td>\n",
       "      <td>0.122218</td>\n",
       "      <td>0.380837</td>\n",
       "      <td>0.371301</td>\n",
       "    </tr>\n",
       "    <tr>\n",
       "      <th>2</th>\n",
       "      <td>0.225285</td>\n",
       "      <td>0.021889</td>\n",
       "      <td>0.225558</td>\n",
       "      <td>0.435042</td>\n",
       "      <td>0.136093</td>\n",
       "      <td>-0.081929</td>\n",
       "      <td>-0.137766</td>\n",
       "      <td>0.575581</td>\n",
       "      <td>0.095648</td>\n",
       "    </tr>\n",
       "    <tr>\n",
       "      <th>3</th>\n",
       "      <td>0.155252</td>\n",
       "      <td>0.491094</td>\n",
       "      <td>0.028881</td>\n",
       "      <td>0.383180</td>\n",
       "      <td>0.268499</td>\n",
       "      <td>0.294663</td>\n",
       "      <td>0.359853</td>\n",
       "      <td>0.101031</td>\n",
       "      <td>0.176065</td>\n",
       "    </tr>\n",
       "    <tr>\n",
       "      <th>4</th>\n",
       "      <td>0.078659</td>\n",
       "      <td>0.044873</td>\n",
       "      <td>0.143663</td>\n",
       "      <td>-0.151343</td>\n",
       "      <td>0.252626</td>\n",
       "      <td>0.271127</td>\n",
       "      <td>0.513780</td>\n",
       "      <td>-0.056394</td>\n",
       "      <td>0.336774</td>\n",
       "    </tr>\n",
       "  </tbody>\n",
       "</table>\n",
       "</div>"
      ]
     },
     "metadata": {},
     "output_type": "execute_result"
    }
   ],
   "source": [
    "selection = pd.DataFrame(selection)\n",
    "selection.head()"
   ]
  },
  {
   "cell_type": "code",
   "execution_count": 391,
   "metadata": {
    "collapsed": false
   },
   "outputs": [
    {
     "data": {
      "text/html": [
       "<div>\n",
       "<table border=\"1\" class=\"dataframe\">\n",
       "  <thead>\n",
       "    <tr style=\"text-align: right;\">\n",
       "      <th></th>\n",
       "      <th>0</th>\n",
       "      <th>2</th>\n",
       "      <th>5</th>\n",
       "      <th>6</th>\n",
       "      <th>9</th>\n",
       "      <th>11</th>\n",
       "      <th>12</th>\n",
       "      <th>13</th>\n",
       "      <th>14</th>\n",
       "    </tr>\n",
       "  </thead>\n",
       "  <tbody>\n",
       "    <tr>\n",
       "      <th>0</th>\n",
       "      <td>0.378474</td>\n",
       "      <td>0.270943</td>\n",
       "      <td>0.003111</td>\n",
       "      <td>0.267020</td>\n",
       "      <td>0.193149</td>\n",
       "      <td>0.336056</td>\n",
       "      <td>0.241134</td>\n",
       "      <td>0.153588</td>\n",
       "      <td>0.197704</td>\n",
       "    </tr>\n",
       "    <tr>\n",
       "      <th>1</th>\n",
       "      <td>0.200536</td>\n",
       "      <td>0.119515</td>\n",
       "      <td>-0.233513</td>\n",
       "      <td>0.248644</td>\n",
       "      <td>0.491651</td>\n",
       "      <td>0.157244</td>\n",
       "      <td>0.122218</td>\n",
       "      <td>0.380837</td>\n",
       "      <td>0.371301</td>\n",
       "    </tr>\n",
       "    <tr>\n",
       "      <th>2</th>\n",
       "      <td>0.225285</td>\n",
       "      <td>0.021889</td>\n",
       "      <td>0.225558</td>\n",
       "      <td>0.435042</td>\n",
       "      <td>0.136093</td>\n",
       "      <td>-0.081929</td>\n",
       "      <td>-0.137766</td>\n",
       "      <td>0.575581</td>\n",
       "      <td>0.095648</td>\n",
       "    </tr>\n",
       "    <tr>\n",
       "      <th>3</th>\n",
       "      <td>0.155252</td>\n",
       "      <td>0.491094</td>\n",
       "      <td>0.028881</td>\n",
       "      <td>0.383180</td>\n",
       "      <td>0.268499</td>\n",
       "      <td>0.294663</td>\n",
       "      <td>0.359853</td>\n",
       "      <td>0.101031</td>\n",
       "      <td>0.176065</td>\n",
       "    </tr>\n",
       "    <tr>\n",
       "      <th>4</th>\n",
       "      <td>0.078659</td>\n",
       "      <td>0.044873</td>\n",
       "      <td>0.143663</td>\n",
       "      <td>-0.151343</td>\n",
       "      <td>0.252626</td>\n",
       "      <td>0.271127</td>\n",
       "      <td>0.513780</td>\n",
       "      <td>-0.056394</td>\n",
       "      <td>0.336774</td>\n",
       "    </tr>\n",
       "    <tr>\n",
       "      <th>5</th>\n",
       "      <td>0.055561</td>\n",
       "      <td>0.074239</td>\n",
       "      <td>-0.029112</td>\n",
       "      <td>0.335071</td>\n",
       "      <td>0.438620</td>\n",
       "      <td>0.384067</td>\n",
       "      <td>0.144560</td>\n",
       "      <td>-0.012472</td>\n",
       "      <td>0.362151</td>\n",
       "    </tr>\n",
       "    <tr>\n",
       "      <th>6</th>\n",
       "      <td>0.094546</td>\n",
       "      <td>0.191410</td>\n",
       "      <td>0.270349</td>\n",
       "      <td>0.160080</td>\n",
       "      <td>0.222098</td>\n",
       "      <td>-0.055091</td>\n",
       "      <td>-0.042849</td>\n",
       "      <td>0.311984</td>\n",
       "      <td>-0.027426</td>\n",
       "    </tr>\n",
       "    <tr>\n",
       "      <th>7</th>\n",
       "      <td>0.384194</td>\n",
       "      <td>0.032962</td>\n",
       "      <td>0.374267</td>\n",
       "      <td>0.248772</td>\n",
       "      <td>0.095538</td>\n",
       "      <td>0.254150</td>\n",
       "      <td>0.110286</td>\n",
       "      <td>0.210666</td>\n",
       "      <td>0.250882</td>\n",
       "    </tr>\n",
       "    <tr>\n",
       "      <th>8</th>\n",
       "      <td>0.266085</td>\n",
       "      <td>0.250970</td>\n",
       "      <td>0.164389</td>\n",
       "      <td>0.109194</td>\n",
       "      <td>0.272084</td>\n",
       "      <td>0.297561</td>\n",
       "      <td>0.062957</td>\n",
       "      <td>0.199469</td>\n",
       "      <td>0.070397</td>\n",
       "    </tr>\n",
       "    <tr>\n",
       "      <th>9</th>\n",
       "      <td>0.286105</td>\n",
       "      <td>0.135114</td>\n",
       "      <td>-0.083840</td>\n",
       "      <td>0.245651</td>\n",
       "      <td>0.577378</td>\n",
       "      <td>0.014878</td>\n",
       "      <td>0.361297</td>\n",
       "      <td>-0.053914</td>\n",
       "      <td>0.091888</td>\n",
       "    </tr>\n",
       "    <tr>\n",
       "      <th>10</th>\n",
       "      <td>0.176128</td>\n",
       "      <td>0.048248</td>\n",
       "      <td>0.063612</td>\n",
       "      <td>0.401994</td>\n",
       "      <td>0.106268</td>\n",
       "      <td>0.553764</td>\n",
       "      <td>0.368495</td>\n",
       "      <td>0.205578</td>\n",
       "      <td>-0.042614</td>\n",
       "    </tr>\n",
       "    <tr>\n",
       "      <th>11</th>\n",
       "      <td>0.380348</td>\n",
       "      <td>-0.112344</td>\n",
       "      <td>0.396123</td>\n",
       "      <td>0.271950</td>\n",
       "      <td>-0.007062</td>\n",
       "      <td>0.040541</td>\n",
       "      <td>0.064022</td>\n",
       "      <td>0.112281</td>\n",
       "      <td>0.209826</td>\n",
       "    </tr>\n",
       "    <tr>\n",
       "      <th>12</th>\n",
       "      <td>0.153114</td>\n",
       "      <td>0.084468</td>\n",
       "      <td>-0.142697</td>\n",
       "      <td>-0.024741</td>\n",
       "      <td>0.602736</td>\n",
       "      <td>0.300312</td>\n",
       "      <td>0.227706</td>\n",
       "      <td>-0.039841</td>\n",
       "      <td>0.361041</td>\n",
       "    </tr>\n",
       "    <tr>\n",
       "      <th>13</th>\n",
       "      <td>0.135677</td>\n",
       "      <td>0.298639</td>\n",
       "      <td>0.103310</td>\n",
       "      <td>0.124568</td>\n",
       "      <td>0.268607</td>\n",
       "      <td>0.159788</td>\n",
       "      <td>0.042903</td>\n",
       "      <td>0.209616</td>\n",
       "      <td>0.147698</td>\n",
       "    </tr>\n",
       "    <tr>\n",
       "      <th>14</th>\n",
       "      <td>0.368818</td>\n",
       "      <td>0.344905</td>\n",
       "      <td>0.113908</td>\n",
       "      <td>0.189794</td>\n",
       "      <td>0.184921</td>\n",
       "      <td>0.126278</td>\n",
       "      <td>0.103569</td>\n",
       "      <td>0.286045</td>\n",
       "      <td>-0.104417</td>\n",
       "    </tr>\n",
       "    <tr>\n",
       "      <th>15</th>\n",
       "      <td>0.222722</td>\n",
       "      <td>0.258105</td>\n",
       "      <td>-0.088828</td>\n",
       "      <td>0.106134</td>\n",
       "      <td>-0.032716</td>\n",
       "      <td>0.522520</td>\n",
       "      <td>-0.224130</td>\n",
       "      <td>0.298759</td>\n",
       "      <td>0.351262</td>\n",
       "    </tr>\n",
       "    <tr>\n",
       "      <th>16</th>\n",
       "      <td>0.083164</td>\n",
       "      <td>0.198899</td>\n",
       "      <td>-0.155061</td>\n",
       "      <td>0.493699</td>\n",
       "      <td>-0.106988</td>\n",
       "      <td>0.097305</td>\n",
       "      <td>0.261940</td>\n",
       "      <td>0.156131</td>\n",
       "      <td>0.388003</td>\n",
       "    </tr>\n",
       "    <tr>\n",
       "      <th>17</th>\n",
       "      <td>0.439891</td>\n",
       "      <td>-0.099506</td>\n",
       "      <td>-0.049021</td>\n",
       "      <td>0.128011</td>\n",
       "      <td>-0.243022</td>\n",
       "      <td>0.395543</td>\n",
       "      <td>0.282512</td>\n",
       "      <td>0.178867</td>\n",
       "      <td>0.284843</td>\n",
       "    </tr>\n",
       "    <tr>\n",
       "      <th>18</th>\n",
       "      <td>0.213896</td>\n",
       "      <td>0.451920</td>\n",
       "      <td>0.093115</td>\n",
       "      <td>0.228373</td>\n",
       "      <td>0.468521</td>\n",
       "      <td>0.308858</td>\n",
       "      <td>0.047082</td>\n",
       "      <td>0.387779</td>\n",
       "      <td>0.196665</td>\n",
       "    </tr>\n",
       "    <tr>\n",
       "      <th>19</th>\n",
       "      <td>0.260230</td>\n",
       "      <td>0.357652</td>\n",
       "      <td>0.060157</td>\n",
       "      <td>0.083944</td>\n",
       "      <td>0.139760</td>\n",
       "      <td>0.177557</td>\n",
       "      <td>0.256042</td>\n",
       "      <td>0.097139</td>\n",
       "      <td>0.221606</td>\n",
       "    </tr>\n",
       "    <tr>\n",
       "      <th>20</th>\n",
       "      <td>-0.067785</td>\n",
       "      <td>0.195009</td>\n",
       "      <td>0.119256</td>\n",
       "      <td>-0.073918</td>\n",
       "      <td>0.185851</td>\n",
       "      <td>0.459471</td>\n",
       "      <td>-0.028046</td>\n",
       "      <td>0.059558</td>\n",
       "      <td>0.136027</td>\n",
       "    </tr>\n",
       "    <tr>\n",
       "      <th>21</th>\n",
       "      <td>0.234773</td>\n",
       "      <td>0.152985</td>\n",
       "      <td>0.060154</td>\n",
       "      <td>0.040119</td>\n",
       "      <td>-0.033758</td>\n",
       "      <td>0.180707</td>\n",
       "      <td>0.698671</td>\n",
       "      <td>0.063351</td>\n",
       "      <td>0.416891</td>\n",
       "    </tr>\n",
       "    <tr>\n",
       "      <th>22</th>\n",
       "      <td>0.339515</td>\n",
       "      <td>0.344579</td>\n",
       "      <td>0.312141</td>\n",
       "      <td>-0.146885</td>\n",
       "      <td>0.516805</td>\n",
       "      <td>0.106218</td>\n",
       "      <td>0.060660</td>\n",
       "      <td>-0.041600</td>\n",
       "      <td>0.108640</td>\n",
       "    </tr>\n",
       "    <tr>\n",
       "      <th>23</th>\n",
       "      <td>0.175904</td>\n",
       "      <td>0.282735</td>\n",
       "      <td>0.057651</td>\n",
       "      <td>-0.107010</td>\n",
       "      <td>0.084991</td>\n",
       "      <td>-0.206073</td>\n",
       "      <td>0.127600</td>\n",
       "      <td>0.127189</td>\n",
       "      <td>0.396067</td>\n",
       "    </tr>\n",
       "    <tr>\n",
       "      <th>24</th>\n",
       "      <td>0.379727</td>\n",
       "      <td>0.431907</td>\n",
       "      <td>0.259551</td>\n",
       "      <td>0.180947</td>\n",
       "      <td>-0.028620</td>\n",
       "      <td>0.001537</td>\n",
       "      <td>0.411737</td>\n",
       "      <td>0.167800</td>\n",
       "      <td>0.234637</td>\n",
       "    </tr>\n",
       "    <tr>\n",
       "      <th>25</th>\n",
       "      <td>0.308080</td>\n",
       "      <td>-0.117682</td>\n",
       "      <td>-0.143973</td>\n",
       "      <td>0.286104</td>\n",
       "      <td>0.214201</td>\n",
       "      <td>0.002988</td>\n",
       "      <td>-0.097308</td>\n",
       "      <td>0.546135</td>\n",
       "      <td>0.240103</td>\n",
       "    </tr>\n",
       "    <tr>\n",
       "      <th>26</th>\n",
       "      <td>0.297816</td>\n",
       "      <td>0.122861</td>\n",
       "      <td>0.045321</td>\n",
       "      <td>0.353042</td>\n",
       "      <td>0.352022</td>\n",
       "      <td>-0.022023</td>\n",
       "      <td>0.335701</td>\n",
       "      <td>0.257723</td>\n",
       "      <td>-0.146038</td>\n",
       "    </tr>\n",
       "    <tr>\n",
       "      <th>27</th>\n",
       "      <td>0.217910</td>\n",
       "      <td>0.170235</td>\n",
       "      <td>-0.071786</td>\n",
       "      <td>0.289420</td>\n",
       "      <td>0.439318</td>\n",
       "      <td>0.220377</td>\n",
       "      <td>0.183600</td>\n",
       "      <td>0.405120</td>\n",
       "      <td>0.437207</td>\n",
       "    </tr>\n",
       "    <tr>\n",
       "      <th>28</th>\n",
       "      <td>0.387273</td>\n",
       "      <td>-0.219699</td>\n",
       "      <td>0.219569</td>\n",
       "      <td>0.389991</td>\n",
       "      <td>0.254884</td>\n",
       "      <td>-0.083678</td>\n",
       "      <td>0.375122</td>\n",
       "      <td>0.256282</td>\n",
       "      <td>0.005800</td>\n",
       "    </tr>\n",
       "    <tr>\n",
       "      <th>29</th>\n",
       "      <td>0.291241</td>\n",
       "      <td>0.222679</td>\n",
       "      <td>0.133961</td>\n",
       "      <td>-0.035313</td>\n",
       "      <td>0.415510</td>\n",
       "      <td>0.322828</td>\n",
       "      <td>0.007839</td>\n",
       "      <td>0.048149</td>\n",
       "      <td>0.197055</td>\n",
       "    </tr>\n",
       "    <tr>\n",
       "      <th>...</th>\n",
       "      <td>...</td>\n",
       "      <td>...</td>\n",
       "      <td>...</td>\n",
       "      <td>...</td>\n",
       "      <td>...</td>\n",
       "      <td>...</td>\n",
       "      <td>...</td>\n",
       "      <td>...</td>\n",
       "      <td>...</td>\n",
       "    </tr>\n",
       "    <tr>\n",
       "      <th>871</th>\n",
       "      <td>-0.115502</td>\n",
       "      <td>0.140798</td>\n",
       "      <td>0.125518</td>\n",
       "      <td>-0.126386</td>\n",
       "      <td>-0.029291</td>\n",
       "      <td>0.192799</td>\n",
       "      <td>0.124102</td>\n",
       "      <td>0.316746</td>\n",
       "      <td>0.077511</td>\n",
       "    </tr>\n",
       "    <tr>\n",
       "      <th>872</th>\n",
       "      <td>0.350993</td>\n",
       "      <td>-0.011436</td>\n",
       "      <td>0.116972</td>\n",
       "      <td>0.368670</td>\n",
       "      <td>0.148510</td>\n",
       "      <td>0.239814</td>\n",
       "      <td>0.296065</td>\n",
       "      <td>0.032985</td>\n",
       "      <td>0.297566</td>\n",
       "    </tr>\n",
       "    <tr>\n",
       "      <th>873</th>\n",
       "      <td>-0.109576</td>\n",
       "      <td>0.028982</td>\n",
       "      <td>0.244797</td>\n",
       "      <td>0.344839</td>\n",
       "      <td>0.400561</td>\n",
       "      <td>0.435873</td>\n",
       "      <td>0.300672</td>\n",
       "      <td>0.089393</td>\n",
       "      <td>0.099196</td>\n",
       "    </tr>\n",
       "    <tr>\n",
       "      <th>874</th>\n",
       "      <td>0.028318</td>\n",
       "      <td>0.083615</td>\n",
       "      <td>0.039717</td>\n",
       "      <td>0.065405</td>\n",
       "      <td>0.723282</td>\n",
       "      <td>0.297204</td>\n",
       "      <td>0.128879</td>\n",
       "      <td>-0.124210</td>\n",
       "      <td>-0.035202</td>\n",
       "    </tr>\n",
       "    <tr>\n",
       "      <th>875</th>\n",
       "      <td>-0.001402</td>\n",
       "      <td>0.289755</td>\n",
       "      <td>0.047854</td>\n",
       "      <td>0.298580</td>\n",
       "      <td>0.260022</td>\n",
       "      <td>0.305485</td>\n",
       "      <td>0.424707</td>\n",
       "      <td>0.118212</td>\n",
       "      <td>0.079728</td>\n",
       "    </tr>\n",
       "    <tr>\n",
       "      <th>876</th>\n",
       "      <td>0.390260</td>\n",
       "      <td>0.136154</td>\n",
       "      <td>-0.018545</td>\n",
       "      <td>0.119618</td>\n",
       "      <td>0.124737</td>\n",
       "      <td>0.298924</td>\n",
       "      <td>0.459588</td>\n",
       "      <td>0.073089</td>\n",
       "      <td>-0.120808</td>\n",
       "    </tr>\n",
       "    <tr>\n",
       "      <th>877</th>\n",
       "      <td>0.361857</td>\n",
       "      <td>0.195454</td>\n",
       "      <td>0.145199</td>\n",
       "      <td>0.257638</td>\n",
       "      <td>-0.441590</td>\n",
       "      <td>0.378717</td>\n",
       "      <td>0.189833</td>\n",
       "      <td>0.060328</td>\n",
       "      <td>0.164936</td>\n",
       "    </tr>\n",
       "    <tr>\n",
       "      <th>878</th>\n",
       "      <td>0.349213</td>\n",
       "      <td>0.201011</td>\n",
       "      <td>0.095724</td>\n",
       "      <td>0.039402</td>\n",
       "      <td>-0.089759</td>\n",
       "      <td>-0.049055</td>\n",
       "      <td>0.137264</td>\n",
       "      <td>0.212173</td>\n",
       "      <td>0.216907</td>\n",
       "    </tr>\n",
       "    <tr>\n",
       "      <th>879</th>\n",
       "      <td>0.291209</td>\n",
       "      <td>0.287878</td>\n",
       "      <td>-0.041514</td>\n",
       "      <td>0.173116</td>\n",
       "      <td>-0.038404</td>\n",
       "      <td>-0.000616</td>\n",
       "      <td>0.246070</td>\n",
       "      <td>0.177789</td>\n",
       "      <td>0.350138</td>\n",
       "    </tr>\n",
       "    <tr>\n",
       "      <th>880</th>\n",
       "      <td>0.168868</td>\n",
       "      <td>0.062275</td>\n",
       "      <td>0.039453</td>\n",
       "      <td>0.157540</td>\n",
       "      <td>0.259453</td>\n",
       "      <td>0.594101</td>\n",
       "      <td>0.373114</td>\n",
       "      <td>0.468701</td>\n",
       "      <td>0.170282</td>\n",
       "    </tr>\n",
       "    <tr>\n",
       "      <th>881</th>\n",
       "      <td>0.188516</td>\n",
       "      <td>-0.030229</td>\n",
       "      <td>0.020632</td>\n",
       "      <td>-0.052506</td>\n",
       "      <td>0.027415</td>\n",
       "      <td>0.434459</td>\n",
       "      <td>0.324036</td>\n",
       "      <td>0.295836</td>\n",
       "      <td>0.358407</td>\n",
       "    </tr>\n",
       "    <tr>\n",
       "      <th>882</th>\n",
       "      <td>0.121904</td>\n",
       "      <td>0.182380</td>\n",
       "      <td>0.271247</td>\n",
       "      <td>0.263642</td>\n",
       "      <td>-0.016970</td>\n",
       "      <td>0.118099</td>\n",
       "      <td>0.439755</td>\n",
       "      <td>0.164466</td>\n",
       "      <td>0.127444</td>\n",
       "    </tr>\n",
       "    <tr>\n",
       "      <th>883</th>\n",
       "      <td>0.069496</td>\n",
       "      <td>0.279643</td>\n",
       "      <td>0.445024</td>\n",
       "      <td>-0.061115</td>\n",
       "      <td>0.291300</td>\n",
       "      <td>0.169487</td>\n",
       "      <td>0.072244</td>\n",
       "      <td>0.079667</td>\n",
       "      <td>0.397025</td>\n",
       "    </tr>\n",
       "    <tr>\n",
       "      <th>884</th>\n",
       "      <td>0.256170</td>\n",
       "      <td>0.285862</td>\n",
       "      <td>0.434892</td>\n",
       "      <td>0.120916</td>\n",
       "      <td>0.270248</td>\n",
       "      <td>-0.028053</td>\n",
       "      <td>0.260518</td>\n",
       "      <td>0.120112</td>\n",
       "      <td>0.223338</td>\n",
       "    </tr>\n",
       "    <tr>\n",
       "      <th>885</th>\n",
       "      <td>0.068498</td>\n",
       "      <td>0.059106</td>\n",
       "      <td>0.339143</td>\n",
       "      <td>0.052861</td>\n",
       "      <td>0.091413</td>\n",
       "      <td>0.135131</td>\n",
       "      <td>0.081166</td>\n",
       "      <td>0.386790</td>\n",
       "      <td>0.221050</td>\n",
       "    </tr>\n",
       "    <tr>\n",
       "      <th>886</th>\n",
       "      <td>0.174808</td>\n",
       "      <td>0.331678</td>\n",
       "      <td>0.046004</td>\n",
       "      <td>0.061758</td>\n",
       "      <td>-0.123705</td>\n",
       "      <td>0.121251</td>\n",
       "      <td>0.615654</td>\n",
       "      <td>-0.183491</td>\n",
       "      <td>0.074325</td>\n",
       "    </tr>\n",
       "    <tr>\n",
       "      <th>887</th>\n",
       "      <td>0.185812</td>\n",
       "      <td>0.222303</td>\n",
       "      <td>0.099588</td>\n",
       "      <td>0.163171</td>\n",
       "      <td>0.162209</td>\n",
       "      <td>0.608487</td>\n",
       "      <td>-0.082560</td>\n",
       "      <td>0.212428</td>\n",
       "      <td>0.203272</td>\n",
       "    </tr>\n",
       "    <tr>\n",
       "      <th>888</th>\n",
       "      <td>0.186664</td>\n",
       "      <td>0.003658</td>\n",
       "      <td>0.396074</td>\n",
       "      <td>-0.032581</td>\n",
       "      <td>0.426455</td>\n",
       "      <td>0.522103</td>\n",
       "      <td>0.027491</td>\n",
       "      <td>0.214391</td>\n",
       "      <td>-0.214873</td>\n",
       "    </tr>\n",
       "    <tr>\n",
       "      <th>889</th>\n",
       "      <td>0.371813</td>\n",
       "      <td>0.339920</td>\n",
       "      <td>0.392168</td>\n",
       "      <td>0.334043</td>\n",
       "      <td>0.185262</td>\n",
       "      <td>0.047935</td>\n",
       "      <td>-0.005001</td>\n",
       "      <td>0.402632</td>\n",
       "      <td>0.067748</td>\n",
       "    </tr>\n",
       "    <tr>\n",
       "      <th>890</th>\n",
       "      <td>0.330033</td>\n",
       "      <td>0.166983</td>\n",
       "      <td>0.189749</td>\n",
       "      <td>0.352754</td>\n",
       "      <td>0.015712</td>\n",
       "      <td>0.231352</td>\n",
       "      <td>-0.281697</td>\n",
       "      <td>0.414208</td>\n",
       "      <td>0.104752</td>\n",
       "    </tr>\n",
       "    <tr>\n",
       "      <th>891</th>\n",
       "      <td>0.019683</td>\n",
       "      <td>0.356416</td>\n",
       "      <td>-0.152060</td>\n",
       "      <td>0.092386</td>\n",
       "      <td>-0.247163</td>\n",
       "      <td>0.462373</td>\n",
       "      <td>-0.069036</td>\n",
       "      <td>-0.275657</td>\n",
       "      <td>0.380666</td>\n",
       "    </tr>\n",
       "    <tr>\n",
       "      <th>892</th>\n",
       "      <td>0.549089</td>\n",
       "      <td>0.150267</td>\n",
       "      <td>0.057678</td>\n",
       "      <td>0.182938</td>\n",
       "      <td>0.553843</td>\n",
       "      <td>0.097472</td>\n",
       "      <td>0.276912</td>\n",
       "      <td>0.225320</td>\n",
       "      <td>0.125322</td>\n",
       "    </tr>\n",
       "    <tr>\n",
       "      <th>893</th>\n",
       "      <td>0.291425</td>\n",
       "      <td>0.435064</td>\n",
       "      <td>-0.108800</td>\n",
       "      <td>0.220701</td>\n",
       "      <td>0.330846</td>\n",
       "      <td>-0.045511</td>\n",
       "      <td>0.304734</td>\n",
       "      <td>0.457164</td>\n",
       "      <td>0.242312</td>\n",
       "    </tr>\n",
       "    <tr>\n",
       "      <th>894</th>\n",
       "      <td>0.505930</td>\n",
       "      <td>0.294633</td>\n",
       "      <td>0.297332</td>\n",
       "      <td>0.094642</td>\n",
       "      <td>0.285990</td>\n",
       "      <td>0.049494</td>\n",
       "      <td>0.440984</td>\n",
       "      <td>0.276614</td>\n",
       "      <td>0.054156</td>\n",
       "    </tr>\n",
       "    <tr>\n",
       "      <th>895</th>\n",
       "      <td>0.202291</td>\n",
       "      <td>0.434028</td>\n",
       "      <td>-0.146141</td>\n",
       "      <td>0.215361</td>\n",
       "      <td>0.297237</td>\n",
       "      <td>0.189920</td>\n",
       "      <td>-0.097210</td>\n",
       "      <td>0.364342</td>\n",
       "      <td>0.142601</td>\n",
       "    </tr>\n",
       "    <tr>\n",
       "      <th>896</th>\n",
       "      <td>-0.114112</td>\n",
       "      <td>0.203466</td>\n",
       "      <td>0.233786</td>\n",
       "      <td>0.436499</td>\n",
       "      <td>0.204344</td>\n",
       "      <td>0.246893</td>\n",
       "      <td>0.157528</td>\n",
       "      <td>0.410595</td>\n",
       "      <td>0.002412</td>\n",
       "    </tr>\n",
       "    <tr>\n",
       "      <th>897</th>\n",
       "      <td>-0.079066</td>\n",
       "      <td>0.504834</td>\n",
       "      <td>0.002088</td>\n",
       "      <td>-0.003827</td>\n",
       "      <td>0.447678</td>\n",
       "      <td>-0.119543</td>\n",
       "      <td>0.127593</td>\n",
       "      <td>0.019897</td>\n",
       "      <td>-0.010975</td>\n",
       "    </tr>\n",
       "    <tr>\n",
       "      <th>898</th>\n",
       "      <td>0.101988</td>\n",
       "      <td>0.385522</td>\n",
       "      <td>0.296454</td>\n",
       "      <td>0.199784</td>\n",
       "      <td>-0.173561</td>\n",
       "      <td>0.158186</td>\n",
       "      <td>0.067788</td>\n",
       "      <td>0.468665</td>\n",
       "      <td>0.189917</td>\n",
       "    </tr>\n",
       "    <tr>\n",
       "      <th>899</th>\n",
       "      <td>0.066264</td>\n",
       "      <td>0.471431</td>\n",
       "      <td>0.241134</td>\n",
       "      <td>0.357271</td>\n",
       "      <td>0.308232</td>\n",
       "      <td>0.309302</td>\n",
       "      <td>0.096812</td>\n",
       "      <td>0.102415</td>\n",
       "      <td>0.292142</td>\n",
       "    </tr>\n",
       "    <tr>\n",
       "      <th>900</th>\n",
       "      <td>0.292418</td>\n",
       "      <td>-0.095690</td>\n",
       "      <td>-0.072993</td>\n",
       "      <td>0.234864</td>\n",
       "      <td>0.305483</td>\n",
       "      <td>0.234123</td>\n",
       "      <td>0.101427</td>\n",
       "      <td>0.002481</td>\n",
       "      <td>0.255500</td>\n",
       "    </tr>\n",
       "  </tbody>\n",
       "</table>\n",
       "<p>901 rows × 9 columns</p>\n",
       "</div>"
      ]
     },
     "metadata": {},
     "output_type": "execute_result"
    }
   ],
   "source": [
    "#XXXn = selection.ix[:X.shape[0],:]\n",
    "#XXXtn = selection.ix[X.shape[0]:,:]\n",
    "#XXXn"
   ]
  },
  {
   "cell_type": "markdown",
   "metadata": {},
   "source": [
    "# [Linear Regression]"
   ]
  },
  {
   "cell_type": "code",
   "execution_count": 116,
   "metadata": {
    "collapsed": false
   },
   "outputs": [
    {
     "name": "stdout",
     "output_type": "stream",
     "text": [
      "C-V score = 41.4333383848 +/- 5.64233820591\n"
     ]
    }
   ],
   "source": [
    "regressor = sklin.LinearRegression()\n",
    "regressor.fit(Xn,y)\n",
    "eval_pred(regressor,Xn,y)"
   ]
  },
  {
   "cell_type": "code",
   "execution_count": 121,
   "metadata": {
    "collapsed": false
   },
   "outputs": [
    {
     "name": "stdout",
     "output_type": "stream",
     "text": [
      " intercept -46.9222\n",
      "        x1 +43.7654\n",
      "        x2 +16.7069\n",
      "        x3 -10.5726\n",
      "        x4 +31.9376\n",
      "        x5 -2.8208\n",
      "        x6 +56.0321\n",
      "        x7 +92.1729\n",
      "        x8 +27.4054\n",
      "        x9 +11.7272\n",
      "       x10 -38.5210\n",
      "       x11 +24.8832\n",
      "       x12 +57.8268\n",
      "       x13 -55.1408\n",
      "       x14 +120.0936\n",
      "       x15 +58.2473\n"
     ]
    }
   ],
   "source": [
    "regressor.fit(Xn,y)\n",
    "#this function print parameter of regression\n",
    "\"\"\"\n",
    "feature_names = ['x1','x2', 'x3', 'x4', 'x5', 'x6', 'x7', 'x8', 'x9', 'x10', 'x11', 'x12', 'x13', 'x14', 'x15']\n",
    "print('{0:>10} {1:+.4f}'.format('intercept', regressor.intercept_))\n",
    "for feature_name, coef in zip(feature_names, regressor.coef_):\n",
    "    print('{0:>10} {1:+.4f}'.format(feature_name, coef))\n",
    "\"\"\""
   ]
  },
  {
   "cell_type": "code",
   "execution_count": 122,
   "metadata": {
    "collapsed": true
   },
   "outputs": [],
   "source": [
    "Ypred = regressor.predict(Xtn)"
   ]
  },
  {
   "cell_type": "code",
   "execution_count": 123,
   "metadata": {
    "collapsed": false
   },
   "outputs": [
    {
     "data": {
      "text/html": [
       "<div>\n",
       "<table border=\"1\" class=\"dataframe\">\n",
       "  <thead>\n",
       "    <tr style=\"text-align: right;\">\n",
       "      <th></th>\n",
       "      <th>0</th>\n",
       "    </tr>\n",
       "  </thead>\n",
       "  <tbody>\n",
       "    <tr>\n",
       "      <th>0</th>\n",
       "      <td>8.346059</td>\n",
       "    </tr>\n",
       "    <tr>\n",
       "      <th>1</th>\n",
       "      <td>-31.383995</td>\n",
       "    </tr>\n",
       "    <tr>\n",
       "      <th>2</th>\n",
       "      <td>65.746103</td>\n",
       "    </tr>\n",
       "    <tr>\n",
       "      <th>3</th>\n",
       "      <td>18.816375</td>\n",
       "    </tr>\n",
       "    <tr>\n",
       "      <th>4</th>\n",
       "      <td>28.504684</td>\n",
       "    </tr>\n",
       "  </tbody>\n",
       "</table>\n",
       "</div>"
      ]
     },
     "metadata": {},
     "output_type": "execute_result"
    }
   ],
   "source": [
    "#pd.DataFrame(Ypred).head()"
   ]
  },
  {
   "cell_type": "code",
   "execution_count": 124,
   "metadata": {
    "collapsed": false
   },
   "outputs": [
    {
     "data": {
      "text/plain": [
       "(2000,)"
      ]
     },
     "execution_count": 124,
     "metadata": {},
     "output_type": "execute_result"
    }
   ],
   "source": [
    "Ypred.shape"
   ]
  },
  {
   "cell_type": "code",
   "execution_count": 125,
   "metadata": {
    "collapsed": false
   },
   "outputs": [
    {
     "data": {
      "text/html": [
       "<div>\n",
       "<table border=\"1\" class=\"dataframe\">\n",
       "  <thead>\n",
       "    <tr style=\"text-align: right;\">\n",
       "      <th></th>\n",
       "      <th>Id</th>\n",
       "      <th>y</th>\n",
       "    </tr>\n",
       "  </thead>\n",
       "  <tbody>\n",
       "    <tr>\n",
       "      <th>0</th>\n",
       "      <td>900</td>\n",
       "      <td>8.346059</td>\n",
       "    </tr>\n",
       "    <tr>\n",
       "      <th>1</th>\n",
       "      <td>901</td>\n",
       "      <td>-31.383995</td>\n",
       "    </tr>\n",
       "    <tr>\n",
       "      <th>2</th>\n",
       "      <td>902</td>\n",
       "      <td>65.746103</td>\n",
       "    </tr>\n",
       "    <tr>\n",
       "      <th>3</th>\n",
       "      <td>903</td>\n",
       "      <td>18.816375</td>\n",
       "    </tr>\n",
       "    <tr>\n",
       "      <th>4</th>\n",
       "      <td>904</td>\n",
       "      <td>28.504684</td>\n",
       "    </tr>\n",
       "  </tbody>\n",
       "</table>\n",
       "</div>"
      ]
     },
     "metadata": {},
     "output_type": "execute_result"
    }
   ],
   "source": [
    "sub = pd.read_csv(\"sample.csv\")\n",
    "sub['y'] = Ypred\n",
    "sub.head()"
   ]
  },
  {
   "cell_type": "code",
   "execution_count": 97,
   "metadata": {
    "collapsed": true
   },
   "outputs": [],
   "source": [
    "sub.to_csv('test_submission_linear_regression.csv', index = False)"
   ]
  },
  {
   "cell_type": "code",
   "execution_count": 179,
   "metadata": {
    "collapsed": false
   },
   "outputs": [
    {
     "data": {
      "text/plain": [
       "GridSearchCV(cv=5, error_score='raise',\n",
       "       estimator=Ridge(alpha=1.0, copy_X=True, fit_intercept=True, max_iter=None,\n",
       "   normalize=False, random_state=None, solver='auto', tol=0.001),\n",
       "       fit_params={}, iid=True, n_jobs=1,\n",
       "       param_grid={'alpha': array([   0.     ,   11.11111,   22.22222,   33.33333,   44.44444,\n",
       "         55.55556,   66.66667,   77.77778,   88.88889,  100.     ])},\n",
       "       pre_dispatch='2*n_jobs', refit=True, scoring=make_scorer(<lambda>),\n",
       "       verbose=0)"
      ]
     },
     "execution_count": 179,
     "metadata": {},
     "output_type": "execute_result"
    }
   ],
   "source": [
    "#this is just a test of GridSearch\n",
    "regressor_ridge = sklin.Ridge()\n",
    "param_grid = {'alpha': np.linspace(0, 100, 10)}\n",
    "neg_scorefun = skmet.make_scorer(lambda x, y: -score(x, y))  # Note the negative sign.\n",
    "grid_search = skgs.GridSearchCV(regressor_ridge, param_grid, scoring=neg_scorefun, cv=5)\n",
    "grid_search.fit(Xn, y)"
   ]
  },
  {
   "cell_type": "code",
   "execution_count": 180,
   "metadata": {
    "collapsed": false
   },
   "outputs": [
    {
     "name": "stdout",
     "output_type": "stream",
     "text": [
      "Ridge(alpha=0.0, copy_X=True, fit_intercept=True, max_iter=None,\n",
      "   normalize=False, random_state=None, solver='auto', tol=0.001)\n",
      "best score = 41.5340930041\n"
     ]
    }
   ],
   "source": [
    "#this is just a test of GridSearch\n",
    "best = grid_search.best_estimator_\n",
    "print(best)\n",
    "print('best score =', -grid_search.best_score_)"
   ]
  },
  {
   "cell_type": "markdown",
   "metadata": {},
   "source": [
    "Linear Regression has very poor result, try nonlinear method:"
   ]
  },
  {
   "cell_type": "markdown",
   "metadata": {},
   "source": [
    "# [Kernel Method]"
   ]
  },
  {
   "cell_type": "code",
   "execution_count": 117,
   "metadata": {
    "collapsed": true
   },
   "outputs": [],
   "source": [
    "from sklearn.svm import SVR\n",
    "from sklearn.kernel_ridge import KernelRidge"
   ]
  },
  {
   "cell_type": "code",
   "execution_count": 118,
   "metadata": {
    "collapsed": true
   },
   "outputs": [],
   "source": [
    "# Fit regression model\n",
    "svr_rbf = SVR(kernel='rbf', C=1e3, gamma=3)\n",
    "svr_lin = SVR(kernel='linear', C=1e3)\n",
    "svr_poly = SVR(kernel='poly', C=1e3, degree=10)"
   ]
  },
  {
   "cell_type": "code",
   "execution_count": 395,
   "metadata": {
    "collapsed": false
   },
   "outputs": [
    {
     "name": "stdout",
     "output_type": "stream",
     "text": [
      "C-V score = 41.5475557515 +/- 4.66660031055\n"
     ]
    }
   ],
   "source": [
    "eval_pred(svr_rbf,XXXn,y)"
   ]
  },
  {
   "cell_type": "code",
   "execution_count": 396,
   "metadata": {
    "collapsed": false
   },
   "outputs": [
    {
     "name": "stdout",
     "output_type": "stream",
     "text": [
      "C-V score = 42.3222403531 +/- 5.3412707062\n"
     ]
    }
   ],
   "source": [
    "eval_pred(svr_lin,Xn_sel,y)"
   ]
  },
  {
   "cell_type": "code",
   "execution_count": 397,
   "metadata": {
    "collapsed": false
   },
   "outputs": [
    {
     "name": "stdout",
     "output_type": "stream",
     "text": [
      "C-V score = 53.7160131841 +/- 6.70558184339\n"
     ]
    }
   ],
   "source": [
    "eval_pred(svr_poly,Xn_sel,y)"
   ]
  },
  {
   "cell_type": "code",
   "execution_count": 70,
   "metadata": {
    "collapsed": true
   },
   "outputs": [],
   "source": [
    "y_rbf = svr_rbf.fit(Xn, y).predict(Xtn)\n",
    "y_lin = svr_lin.fit(Xn, y).predict(Xtn)\n",
    "y_poly = svr_poly.fit(Xn, y).predict(Xtn)"
   ]
  },
  {
   "cell_type": "code",
   "execution_count": 210,
   "metadata": {
    "collapsed": true
   },
   "outputs": [],
   "source": [
    "#plt.scatter(Xn[:,0], y, c='k', label='data')\n",
    "#plt.hold('on')\n",
    "#plt.plot(Xtn[:,0], y_rbf, c='g', label='RBF model')\n",
    "#plt.plot(Xtn[:,0], y_lin, c='r', label='Linear model')\n",
    "#plt.plot(Xn, y_poly, c='b', label='Polynomial model')\n",
    "#plt.xlabel('data')\n",
    "#plt.ylabel('target')\n",
    "#plt.title('Support Vector Regression')\n",
    "#plt.legend()\n",
    "#plt.show()"
   ]
  },
  {
   "cell_type": "code",
   "execution_count": 71,
   "metadata": {
    "collapsed": true
   },
   "outputs": [],
   "source": [
    "sub = pd.read_csv(\"sample.csv\")\n",
    "sub['y'] = y_rbf\n",
    "#sub.head()"
   ]
  },
  {
   "cell_type": "code",
   "execution_count": 177,
   "metadata": {
    "collapsed": true
   },
   "outputs": [],
   "source": [
    "sub.to_csv('test_submission_rbf_regression.csv', index = False)"
   ]
  },
  {
   "cell_type": "markdown",
   "metadata": {},
   "source": [
    "# use GridSearch to find optimal gamma and C/alpha"
   ]
  },
  {
   "cell_type": "code",
   "execution_count": 149,
   "metadata": {
    "collapsed": true
   },
   "outputs": [],
   "source": [
    "from sklearn.grid_search import GridSearchCV\n",
    "from sklearn.learning_curve import learning_curve\n",
    "from sklearn.kernel_ridge import KernelRidge"
   ]
  },
  {
   "cell_type": "code",
   "execution_count": 150,
   "metadata": {
    "collapsed": true
   },
   "outputs": [],
   "source": [
    "svr_rbf_grid = GridSearchCV(SVR(kernel='rbf', gamma=0.1), cv=5,\n",
    "                   param_grid={\"C\": [1e0, 1e1, 1e2, 1e3],\n",
    "                               \"gamma\": np.logspace(-2, 2, 5)})"
   ]
  },
  {
   "cell_type": "code",
   "execution_count": 151,
   "metadata": {
    "collapsed": true
   },
   "outputs": [],
   "source": [
    "kr = GridSearchCV(KernelRidge(kernel='rbf', gamma=0.1), cv=5,\n",
    "                  param_grid={\"alpha\": [1e0, 0.1, 1e-2, 1e-3],\n",
    "                              \"gamma\": np.logspace( -2, 4,10)})"
   ]
  },
  {
   "cell_type": "code",
   "execution_count": 386,
   "metadata": {
    "collapsed": false
   },
   "outputs": [
    {
     "name": "stdout",
     "output_type": "stream",
     "text": [
      "C-V score = 37.4855406272 +/- 4.81333250064\n"
     ]
    }
   ],
   "source": [
    "eval_pred(svr_rbf_grid,Xn_sel,y)"
   ]
  },
  {
   "cell_type": "code",
   "execution_count": 398,
   "metadata": {
    "collapsed": false
   },
   "outputs": [
    {
     "name": "stdout",
     "output_type": "stream",
     "text": [
      "C-V score = 34.7266310399 +/- 4.57441115477\n"
     ]
    }
   ],
   "source": [
    "eval_pred(kr,XXXn,y)"
   ]
  },
  {
   "cell_type": "code",
   "execution_count": 47,
   "metadata": {
    "collapsed": true
   },
   "outputs": [],
   "source": [
    "kr.fit(Xn,y)\n",
    "y_kr = kr.predict(Xtn)"
   ]
  },
  {
   "cell_type": "code",
   "execution_count": 48,
   "metadata": {
    "collapsed": true
   },
   "outputs": [],
   "source": [
    "sub = pd.read_csv(\"sample.csv\")\n",
    "sub['y'] = y_kr\n",
    "sub.head()\n",
    "sub.to_csv('test_submission_kr_regression.csv', index = False)"
   ]
  },
  {
   "cell_type": "markdown",
   "metadata": {},
   "source": [
    "As can be seen above, SVR does not provide better result than linear regression"
   ]
  },
  {
   "cell_type": "markdown",
   "metadata": {},
   "source": [
    "# [Decision Tree Regression]"
   ]
  },
  {
   "cell_type": "code",
   "execution_count": 126,
   "metadata": {
    "collapsed": true
   },
   "outputs": [],
   "source": [
    "from sklearn.tree import DecisionTreeRegressor\n",
    "\n",
    "regr_1 = DecisionTreeRegressor(max_depth=2)\n",
    "regr_2 = DecisionTreeRegressor(max_depth=20)\n",
    "#regr_1.fit(Xn, y)\n",
    "#regr_2.fit(Xn, y)"
   ]
  },
  {
   "cell_type": "code",
   "execution_count": 120,
   "metadata": {
    "collapsed": false
   },
   "outputs": [
    {
     "name": "stdout",
     "output_type": "stream",
     "text": [
      "C-V score = 49.3719088998 +/- 6.44466425961\n"
     ]
    }
   ],
   "source": [
    "eval_pred(regr_1,Xn,y)"
   ]
  },
  {
   "cell_type": "code",
   "execution_count": 122,
   "metadata": {
    "collapsed": false
   },
   "outputs": [
    {
     "name": "stdout",
     "output_type": "stream",
     "text": [
      "C-V score = 60.976176388 +/- 7.05984992075\n"
     ]
    }
   ],
   "source": [
    "eval_pred(regr_2,Xn,y)"
   ]
  },
  {
   "cell_type": "markdown",
   "metadata": {},
   "source": [
    "# [AdaBoostRegressor]"
   ]
  },
  {
   "cell_type": "code",
   "execution_count": 128,
   "metadata": {
    "collapsed": true
   },
   "outputs": [],
   "source": [
    "from sklearn.ensemble import AdaBoostRegressor"
   ]
  },
  {
   "cell_type": "code",
   "execution_count": 139,
   "metadata": {
    "collapsed": true
   },
   "outputs": [],
   "source": [
    "Ada_1 = AdaBoostRegressor(DecisionTreeRegressor(max_depth=10),\n",
    "                          n_estimators=300, random_state=rng)\n",
    "Ada_2 = AdaBoostRegressor(sklin.LinearRegression(),\n",
    "                          n_estimators=300, random_state=rng)\n",
    "Ada_3 = AdaBoostRegressor(SVR(kernel='rbf', C=1e3, gamma=3),\n",
    "                          n_estimators=300, random_state=rng)\n",
    "Ada_4 = AdaBoostRegressor(SVR(kernel='linear', C=1e3),\n",
    "                          n_estimators=300, random_state=rng)\n",
    "Ada_5 = AdaBoostRegressor(SVR(kernel='poly', C=1e3, degree=7),\n",
    "                          n_estimators=300, random_state=rng)\n",
    "Ada_6 = AdaBoostRegressor(KernelRidge(kernel='rbf', gamma=0.3,alpha = 1e-2),\n",
    "                          n_estimators=300, random_state=rng)\n",
    "\n",
    "#kr = GridSearchCV(KernelRidge(kernel='rbf', gamma=0.1), cv=5,\n",
    "#                  param_grid={\"alpha\": [1e0, 0.1, 1e-2, 1e-3],\n",
    "#                              \"gamma\": np.logspace( -2, 4,10)})"
   ]
  },
  {
   "cell_type": "code",
   "execution_count": 130,
   "metadata": {
    "collapsed": false
   },
   "outputs": [
    {
     "name": "stdout",
     "output_type": "stream",
     "text": [
      "C-V score = 40.4214009241 +/- 5.57970312992\n"
     ]
    }
   ],
   "source": [
    "eval_pred(Ada_1,Xn,y)"
   ]
  },
  {
   "cell_type": "code",
   "execution_count": 132,
   "metadata": {
    "collapsed": false
   },
   "outputs": [
    {
     "name": "stdout",
     "output_type": "stream",
     "text": [
      "C-V score = 43.848258774 +/- 4.44647526475\n"
     ]
    }
   ],
   "source": [
    "eval_pred(Ada_2,Xn,y)"
   ]
  },
  {
   "cell_type": "code",
   "execution_count": 399,
   "metadata": {
    "collapsed": false
   },
   "outputs": [
    {
     "name": "stdout",
     "output_type": "stream",
     "text": [
      "C-V score = 41.0371566306 +/- 5.91583587865\n"
     ]
    }
   ],
   "source": [
    "eval_pred(Ada_3,XXXn,y)"
   ]
  },
  {
   "cell_type": "code",
   "execution_count": 135,
   "metadata": {
    "collapsed": false
   },
   "outputs": [
    {
     "name": "stdout",
     "output_type": "stream",
     "text": [
      "C-V score = 61.5146243022 +/- 6.47354425106\n"
     ]
    }
   ],
   "source": [
    "eval_pred(Ada_4,Xn,y)"
   ]
  },
  {
   "cell_type": "code",
   "execution_count": 140,
   "metadata": {
    "collapsed": false
   },
   "outputs": [
    {
     "name": "stdout",
     "output_type": "stream",
     "text": [
      "C-V score = 53.5671108783 +/- 6.59248001956\n"
     ]
    }
   ],
   "source": [
    "eval_pred(Ada_5,Xn,y)"
   ]
  },
  {
   "cell_type": "code",
   "execution_count": 141,
   "metadata": {
    "collapsed": false
   },
   "outputs": [
    {
     "name": "stdout",
     "output_type": "stream",
     "text": [
      "C-V score = 40.5967636895 +/- 4.85634617326\n"
     ]
    }
   ],
   "source": [
    "eval_pred(Ada_6,Xn,y)"
   ]
  },
  {
   "cell_type": "markdown",
   "metadata": {},
   "source": [
    "# [ARDregression]"
   ]
  },
  {
   "cell_type": "code",
   "execution_count": 88,
   "metadata": {
    "collapsed": true
   },
   "outputs": [],
   "source": [
    "from sklearn.linear_model import ARDRegression, LinearRegression"
   ]
  },
  {
   "cell_type": "code",
   "execution_count": 89,
   "metadata": {
    "collapsed": false
   },
   "outputs": [
    {
     "name": "stdout",
     "output_type": "stream",
     "text": [
      "C-V score = 41.5098649897 +/- 5.61030053061\n"
     ]
    }
   ],
   "source": [
    "ARD = ARDRegression(compute_score=True)\n",
    "eval_pred(ARD,Xn,y)"
   ]
  },
  {
   "cell_type": "code",
   "execution_count": 216,
   "metadata": {
    "collapsed": false
   },
   "outputs": [
    {
     "name": "stdout",
     "output_type": "stream",
     "text": [
      "C-V score = 41.6580921227 +/- 4.61007520981\n"
     ]
    }
   ],
   "source": [
    "LinReg = LinearRegression()\n",
    "eval_pred(ARD,Xn,y)"
   ]
  },
  {
   "cell_type": "markdown",
   "metadata": {},
   "source": [
    "# [Try lasso and polynomialFeature]"
   ]
  },
  {
   "cell_type": "code",
   "execution_count": 143,
   "metadata": {
    "collapsed": true
   },
   "outputs": [],
   "source": [
    "from sklearn import linear_model"
   ]
  },
  {
   "cell_type": "code",
   "execution_count": 144,
   "metadata": {
    "collapsed": false
   },
   "outputs": [
    {
     "name": "stdout",
     "output_type": "stream",
     "text": [
      "C-V score = 41.4378822643 +/- 5.68444088027\n"
     ]
    }
   ],
   "source": [
    "lasso = linear_model.LassoLars(alpha=0.01)\n",
    "eval_pred(lasso,Xn,y)"
   ]
  },
  {
   "cell_type": "code",
   "execution_count": 145,
   "metadata": {
    "collapsed": true
   },
   "outputs": [],
   "source": [
    "from sklearn.linear_model import Perceptron\n",
    "from sklearn.preprocessing import PolynomialFeatures"
   ]
  },
  {
   "cell_type": "code",
   "execution_count": 400,
   "metadata": {
    "collapsed": true
   },
   "outputs": [],
   "source": [
    "XXXn_tf = PolynomialFeatures(interaction_only=True).fit_transform(XXXn)\n",
    "Xtn_tf = PolynomialFeatures(interaction_only=True).fit_transform(Xtn)"
   ]
  },
  {
   "cell_type": "code",
   "execution_count": 237,
   "metadata": {
    "collapsed": false
   },
   "outputs": [
    {
     "name": "stdout",
     "output_type": "stream",
     "text": [
      "C-V score = 37.7106294753 +/- 3.75400247959\n"
     ]
    }
   ],
   "source": [
    "#percep = Perceptron(fit_intercept=False, n_iter=10, shuffle=False).fit(Xn_tf, y)\n",
    "eval_pred(lasso,Xn_tf,y)"
   ]
  },
  {
   "cell_type": "code",
   "execution_count": 238,
   "metadata": {
    "collapsed": false
   },
   "outputs": [
    {
     "name": "stdout",
     "output_type": "stream",
     "text": [
      "C-V score = 38.9624849892 +/- 5.35912963427\n"
     ]
    }
   ],
   "source": [
    "eval_pred(svr_rbf,Xn_tf,y)"
   ]
  },
  {
   "cell_type": "code",
   "execution_count": 1,
   "metadata": {
    "collapsed": true
   },
   "outputs": [],
   "source": [
    "from sklearn import linear_model"
   ]
  },
  {
   "cell_type": "code",
   "execution_count": 2,
   "metadata": {
    "collapsed": true
   },
   "outputs": [],
   "source": [
    "lm_lasso = linear_model.Lasso(alpha=0.1)"
   ]
  },
  {
   "cell_type": "code",
   "execution_count": 22,
   "metadata": {
    "collapsed": false
   },
   "outputs": [
    {
     "name": "stdout",
     "output_type": "stream",
     "text": [
      "C-V score = 41.5857177687 +/- 4.74568425394\n"
     ]
    }
   ],
   "source": [
    "eval_pred(lm_lasso,Xn,y)"
   ]
  },
  {
   "cell_type": "code",
   "execution_count": 413,
   "metadata": {
    "collapsed": false
   },
   "outputs": [
    {
     "name": "stdout",
     "output_type": "stream",
     "text": [
      "C-V score = 33.7728274446 +/- 5.04607670553\n"
     ]
    }
   ],
   "source": [
    "eval_pred(kr,XXXn,y)"
   ]
  },
  {
   "cell_type": "code",
   "execution_count": 414,
   "metadata": {
    "collapsed": false
   },
   "outputs": [
    {
     "name": "stdout",
     "output_type": "stream",
     "text": [
      "C-V score = 34.2232761883 +/- 5.04737604322\n"
     ]
    }
   ],
   "source": [
    "eval_pred(svr_rbf_grid,XXXn,y)"
   ]
  },
  {
   "cell_type": "code",
   "execution_count": 156,
   "metadata": {
    "collapsed": false
   },
   "outputs": [
    {
     "data": {
      "text/plain": [
       "GridSearchCV(cv=5, error_score='raise',\n",
       "       estimator=SVR(C=1.0, cache_size=200, coef0=0.0, degree=3, epsilon=0.1, gamma=0.1,\n",
       "  kernel='rbf', max_iter=-1, shrinking=True, tol=0.001, verbose=False),\n",
       "       fit_params={}, iid=True, n_jobs=1,\n",
       "       param_grid={'gamma': array([  1.00000e-02,   1.00000e-01,   1.00000e+00,   1.00000e+01,\n",
       "         1.00000e+02]), 'C': [1.0, 10.0, 100.0, 1000.0]},\n",
       "       pre_dispatch='2*n_jobs', refit=True, scoring=None, verbose=0)"
      ]
     },
     "execution_count": 156,
     "metadata": {},
     "output_type": "execute_result"
    }
   ],
   "source": [
    "svr_rbf_grid.fit(Xn_tf,y)"
   ]
  },
  {
   "cell_type": "code",
   "execution_count": 158,
   "metadata": {
    "collapsed": true
   },
   "outputs": [],
   "source": [
    "Ypred = svr_rbf_grid.predict(Xtn_tf)"
   ]
  },
  {
   "cell_type": "code",
   "execution_count": 159,
   "metadata": {
    "collapsed": true
   },
   "outputs": [],
   "source": [
    "sub = pd.read_csv(\"sample.csv\")\n",
    "sub['y'] = Ypred\n",
    "sub.head()\n",
    "sub.to_csv('test_submission_svr_rbf_grid.csv', index = False)"
   ]
  },
  {
   "cell_type": "code",
   "execution_count": 271,
   "metadata": {
    "collapsed": false
   },
   "outputs": [
    {
     "data": {
      "text/html": [
       "<div>\n",
       "<table border=\"1\" class=\"dataframe\">\n",
       "  <thead>\n",
       "    <tr style=\"text-align: right;\">\n",
       "      <th></th>\n",
       "      <th>0</th>\n",
       "      <th>1</th>\n",
       "      <th>2</th>\n",
       "      <th>3</th>\n",
       "      <th>4</th>\n",
       "      <th>5</th>\n",
       "      <th>6</th>\n",
       "      <th>7</th>\n",
       "      <th>8</th>\n",
       "      <th>9</th>\n",
       "      <th>...</th>\n",
       "      <th>111</th>\n",
       "      <th>112</th>\n",
       "      <th>113</th>\n",
       "      <th>114</th>\n",
       "      <th>115</th>\n",
       "      <th>116</th>\n",
       "      <th>117</th>\n",
       "      <th>118</th>\n",
       "      <th>119</th>\n",
       "      <th>120</th>\n",
       "    </tr>\n",
       "  </thead>\n",
       "  <tbody>\n",
       "    <tr>\n",
       "      <th>0</th>\n",
       "      <td>1</td>\n",
       "      <td>0.292418</td>\n",
       "      <td>0.420133</td>\n",
       "      <td>-0.095690</td>\n",
       "      <td>0.043988</td>\n",
       "      <td>0.270180</td>\n",
       "      <td>-0.072993</td>\n",
       "      <td>0.234864</td>\n",
       "      <td>-0.101510</td>\n",
       "      <td>0.598943</td>\n",
       "      <td>...</td>\n",
       "      <td>0.006005</td>\n",
       "      <td>0.002601</td>\n",
       "      <td>0.000064</td>\n",
       "      <td>0.006553</td>\n",
       "      <td>0.023746</td>\n",
       "      <td>0.000581</td>\n",
       "      <td>0.059818</td>\n",
       "      <td>0.000252</td>\n",
       "      <td>0.025915</td>\n",
       "      <td>0.000634</td>\n",
       "    </tr>\n",
       "    <tr>\n",
       "      <th>1</th>\n",
       "      <td>1</td>\n",
       "      <td>-0.014159</td>\n",
       "      <td>-0.123055</td>\n",
       "      <td>0.251215</td>\n",
       "      <td>0.235878</td>\n",
       "      <td>0.144004</td>\n",
       "      <td>-0.068836</td>\n",
       "      <td>0.075333</td>\n",
       "      <td>0.341366</td>\n",
       "      <td>0.571733</td>\n",
       "      <td>...</td>\n",
       "      <td>0.000205</td>\n",
       "      <td>0.056164</td>\n",
       "      <td>0.035218</td>\n",
       "      <td>-0.005228</td>\n",
       "      <td>0.000579</td>\n",
       "      <td>0.000363</td>\n",
       "      <td>-0.000054</td>\n",
       "      <td>0.099512</td>\n",
       "      <td>-0.014774</td>\n",
       "      <td>-0.009264</td>\n",
       "    </tr>\n",
       "    <tr>\n",
       "      <th>2</th>\n",
       "      <td>1</td>\n",
       "      <td>0.293873</td>\n",
       "      <td>0.138530</td>\n",
       "      <td>-0.020185</td>\n",
       "      <td>0.200825</td>\n",
       "      <td>-0.007854</td>\n",
       "      <td>0.414606</td>\n",
       "      <td>0.444049</td>\n",
       "      <td>0.441633</td>\n",
       "      <td>0.230808</td>\n",
       "      <td>...</td>\n",
       "      <td>-0.022727</td>\n",
       "      <td>0.083161</td>\n",
       "      <td>0.040073</td>\n",
       "      <td>0.056176</td>\n",
       "      <td>-0.023033</td>\n",
       "      <td>-0.011099</td>\n",
       "      <td>-0.015559</td>\n",
       "      <td>0.040613</td>\n",
       "      <td>0.056933</td>\n",
       "      <td>0.027434</td>\n",
       "    </tr>\n",
       "    <tr>\n",
       "      <th>3</th>\n",
       "      <td>1</td>\n",
       "      <td>0.380262</td>\n",
       "      <td>-0.050227</td>\n",
       "      <td>0.243550</td>\n",
       "      <td>-0.026532</td>\n",
       "      <td>-0.257482</td>\n",
       "      <td>0.147521</td>\n",
       "      <td>0.149179</td>\n",
       "      <td>0.258393</td>\n",
       "      <td>0.161242</td>\n",
       "      <td>...</td>\n",
       "      <td>0.108099</td>\n",
       "      <td>0.196190</td>\n",
       "      <td>0.096503</td>\n",
       "      <td>0.058306</td>\n",
       "      <td>0.073601</td>\n",
       "      <td>0.036203</td>\n",
       "      <td>0.021874</td>\n",
       "      <td>0.065706</td>\n",
       "      <td>0.039699</td>\n",
       "      <td>0.019527</td>\n",
       "    </tr>\n",
       "    <tr>\n",
       "      <th>4</th>\n",
       "      <td>1</td>\n",
       "      <td>-0.002093</td>\n",
       "      <td>0.334725</td>\n",
       "      <td>0.285952</td>\n",
       "      <td>-0.047922</td>\n",
       "      <td>0.257012</td>\n",
       "      <td>0.435998</td>\n",
       "      <td>-0.102000</td>\n",
       "      <td>0.557526</td>\n",
       "      <td>-0.027146</td>\n",
       "      <td>...</td>\n",
       "      <td>-0.000812</td>\n",
       "      <td>0.000379</td>\n",
       "      <td>-0.000601</td>\n",
       "      <td>-0.000727</td>\n",
       "      <td>-0.028423</td>\n",
       "      <td>0.045102</td>\n",
       "      <td>0.054580</td>\n",
       "      <td>-0.021028</td>\n",
       "      <td>-0.025447</td>\n",
       "      <td>0.040380</td>\n",
       "    </tr>\n",
       "  </tbody>\n",
       "</table>\n",
       "<p>5 rows × 121 columns</p>\n",
       "</div>"
      ]
     },
     "metadata": {},
     "output_type": "execute_result"
    }
   ],
   "source": [
    "pd.DataFrame(Xtn_tf).head()"
   ]
  },
  {
   "cell_type": "markdown",
   "metadata": {},
   "source": [
    "polynomialFeature does not work"
   ]
  },
  {
   "cell_type": "markdown",
   "metadata": {},
   "source": [
    "# [Feature Selection + Kernel]"
   ]
  },
  {
   "cell_type": "code",
   "execution_count": 1,
   "metadata": {
    "collapsed": true
   },
   "outputs": [],
   "source": [
    "from sklearn.feature_selection import VarianceThreshold"
   ]
  },
  {
   "cell_type": "code",
   "execution_count": 83,
   "metadata": {
    "collapsed": true
   },
   "outputs": [],
   "source": [
    "sel = VarianceThreshold(threshold=(0.0327))"
   ]
  },
  {
   "cell_type": "code",
   "execution_count": 84,
   "metadata": {
    "collapsed": true
   },
   "outputs": [],
   "source": [
    "Xsel = sel.fit_transform(Xn)"
   ]
  },
  {
   "cell_type": "code",
   "execution_count": 85,
   "metadata": {
    "collapsed": false
   },
   "outputs": [
    {
     "data": {
      "text/html": [
       "<div>\n",
       "<table border=\"1\" class=\"dataframe\">\n",
       "  <thead>\n",
       "    <tr style=\"text-align: right;\">\n",
       "      <th></th>\n",
       "      <th>0</th>\n",
       "      <th>1</th>\n",
       "      <th>2</th>\n",
       "      <th>3</th>\n",
       "      <th>4</th>\n",
       "      <th>5</th>\n",
       "      <th>6</th>\n",
       "      <th>7</th>\n",
       "    </tr>\n",
       "  </thead>\n",
       "  <tbody>\n",
       "    <tr>\n",
       "      <th>0</th>\n",
       "      <td>0.378474</td>\n",
       "      <td>0.443766</td>\n",
       "      <td>0.003111</td>\n",
       "      <td>0.116202</td>\n",
       "      <td>0.122794</td>\n",
       "      <td>0.241134</td>\n",
       "      <td>0.153588</td>\n",
       "      <td>0.197704</td>\n",
       "    </tr>\n",
       "    <tr>\n",
       "      <th>1</th>\n",
       "      <td>0.200536</td>\n",
       "      <td>0.197437</td>\n",
       "      <td>-0.233513</td>\n",
       "      <td>0.280343</td>\n",
       "      <td>0.038769</td>\n",
       "      <td>0.122218</td>\n",
       "      <td>0.380837</td>\n",
       "      <td>0.371301</td>\n",
       "    </tr>\n",
       "    <tr>\n",
       "      <th>2</th>\n",
       "      <td>0.225285</td>\n",
       "      <td>-0.191315</td>\n",
       "      <td>0.225558</td>\n",
       "      <td>0.429598</td>\n",
       "      <td>0.119509</td>\n",
       "      <td>-0.137766</td>\n",
       "      <td>0.575581</td>\n",
       "      <td>0.095648</td>\n",
       "    </tr>\n",
       "    <tr>\n",
       "      <th>3</th>\n",
       "      <td>0.155252</td>\n",
       "      <td>-0.169611</td>\n",
       "      <td>0.028881</td>\n",
       "      <td>0.135157</td>\n",
       "      <td>-0.049906</td>\n",
       "      <td>0.359853</td>\n",
       "      <td>0.101031</td>\n",
       "      <td>0.176065</td>\n",
       "    </tr>\n",
       "    <tr>\n",
       "      <th>4</th>\n",
       "      <td>0.078659</td>\n",
       "      <td>-0.174418</td>\n",
       "      <td>0.143663</td>\n",
       "      <td>0.351289</td>\n",
       "      <td>0.022262</td>\n",
       "      <td>0.513780</td>\n",
       "      <td>-0.056394</td>\n",
       "      <td>0.336774</td>\n",
       "    </tr>\n",
       "  </tbody>\n",
       "</table>\n",
       "</div>"
      ]
     },
     "metadata": {},
     "output_type": "execute_result"
    }
   ],
   "source": [
    "pd.DataFrame(Xsel).head()"
   ]
  },
  {
   "cell_type": "code",
   "execution_count": 80,
   "metadata": {
    "collapsed": false
   },
   "outputs": [
    {
     "name": "stdout",
     "output_type": "stream",
     "text": [
      "C-V score = 33.824402195 +/- 4.33528465247\n"
     ]
    }
   ],
   "source": [
    "eval_pred(svr_rbf,Xsel,y)"
   ]
  },
  {
   "cell_type": "code",
   "execution_count": 81,
   "metadata": {
    "collapsed": false
   },
   "outputs": [
    {
     "name": "stdout",
     "output_type": "stream",
     "text": [
      "C-V score = 42.0567764526 +/- 5.664819972\n"
     ]
    }
   ],
   "source": [
    "eval_pred(svr_lin,Xsel,y)"
   ]
  },
  {
   "cell_type": "code",
   "execution_count": 82,
   "metadata": {
    "collapsed": false
   },
   "outputs": [
    {
     "name": "stdout",
     "output_type": "stream",
     "text": [
      "C-V score = 53.7160131813 +/- 6.70558184327\n"
     ]
    }
   ],
   "source": [
    "eval_pred(svr_poly,Xsel,y)"
   ]
  },
  {
   "cell_type": "code",
   "execution_count": 87,
   "metadata": {
    "collapsed": false
   },
   "outputs": [
    {
     "name": "stdout",
     "output_type": "stream",
     "text": [
      "C-V score = 46.0766948945 +/- 6.2363446876\n"
     ]
    }
   ],
   "source": [
    "eval_pred(regressor,Xsel,y)"
   ]
  },
  {
   "cell_type": "code",
   "execution_count": 90,
   "metadata": {
    "collapsed": false
   },
   "outputs": [
    {
     "name": "stdout",
     "output_type": "stream",
     "text": [
      "C-V score = 46.1344526791 +/- 6.15748543764\n"
     ]
    }
   ],
   "source": [
    "eval_pred(ARD,Xsel,y)"
   ]
  },
  {
   "cell_type": "code",
   "execution_count": 153,
   "metadata": {
    "collapsed": false
   },
   "outputs": [
    {
     "name": "stdout",
     "output_type": "stream",
     "text": [
      "C-V score = 43.9930545821 +/- 5.84936505436\n"
     ]
    }
   ],
   "source": [
    "eval_pred(svr_rbf_grid,Xsel,y)"
   ]
  },
  {
   "cell_type": "markdown",
   "metadata": {},
   "source": [
    "# feature selection"
   ]
  },
  {
   "cell_type": "code",
   "execution_count": 94,
   "metadata": {
    "collapsed": true
   },
   "outputs": [],
   "source": [
    "from scipy import linalg\n",
    "from sklearn.linear_model import (RandomizedLasso, lasso_stability_path,\n",
    "                                  LassoLarsCV)\n",
    "from sklearn.feature_selection import f_regression\n",
    "from sklearn.preprocessing import StandardScaler\n",
    "from sklearn.metrics import auc, precision_recall_curve\n",
    "from sklearn.ensemble import ExtraTreesRegressor\n",
    "from sklearn.utils.extmath import pinvh\n",
    "from sklearn.utils import ConvergenceWarning\n",
    "import warnings"
   ]
  },
  {
   "cell_type": "code",
   "execution_count": 92,
   "metadata": {
    "collapsed": true
   },
   "outputs": [],
   "source": [
    "def mutual_incoherence(X_relevant, X_irelevant):\n",
    "    \"\"\"Mutual incoherence, as defined by formula (26a) of [Wainwright2006].\n",
    "    \"\"\"\n",
    "    projector = np.dot(np.dot(X_irelevant.T, X_relevant),\n",
    "                       pinvh(np.dot(X_relevant.T, X_relevant)))\n",
    "    return np.max(np.abs(projector).sum(axis=1))"
   ]
  },
  {
   "cell_type": "code",
   "execution_count": null,
   "metadata": {
    "collapsed": true
   },
   "outputs": [],
   "source": []
  }
 ],
 "metadata": {
  "kernelspec": {
   "display_name": "Python 3",
   "language": "python",
   "name": "python3"
  },
  "language_info": {
   "codemirror_mode": {
    "name": "ipython",
    "version": 3
   },
   "file_extension": ".py",
   "mimetype": "text/x-python",
   "name": "python",
   "nbconvert_exporter": "python",
   "pygments_lexer": "ipython3",
   "version": "3.5.1"
  }
 },
 "nbformat": 4,
 "nbformat_minor": 0
}
