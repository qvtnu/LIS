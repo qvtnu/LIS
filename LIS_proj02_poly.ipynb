{
 "cells": [
  {
   "cell_type": "code",
   "execution_count": 1,
   "metadata": {
    "collapsed": true
   },
   "outputs": [],
   "source": [
    "%matplotlib inline\n",
    "from __future__ import print_function\n",
    "import pandas as pd\n",
    "from sklearn.ensemble import AdaBoostClassifier, GradientBoostingClassifier, ExtraTreesClassifier\n",
    "from sklearn.svm import SVC\n",
    "from sklearn.pipeline import Pipeline\n",
    "#from sklearn.cross_validation import cross_val_score, KFold, StratifiedKFold\n",
    "from sklearn.metrics import confusion_matrix\n",
    "from scipy.stats import sem\n",
    "from sklearn.preprocessing import PolynomialFeatures\n",
    "import math\n",
    "import numpy as np\n",
    "import matplotlib.pyplot as plt\n",
    "from sklearn.feature_selection import SelectFromModel\n",
    "\n",
    "# Contains linear models, e.g., linear regression, ridge regression, LASSO, etc.\n",
    "import sklearn.linear_model as sklin\n",
    "# Provides train-test split, cross-validation, etc.\n",
    "import sklearn.cross_validation as skcv\n",
    "# Provides grid search functionality\n",
    "import sklearn.grid_search as skgs\n",
    "# For data normalization\n",
    "import sklearn.preprocessing as skpr\n",
    "# Allows us to create custom scoring functions\n",
    "import sklearn.metrics as skmet\n",
    "from sklearn import grid_search"
   ]
  },
  {
   "cell_type": "code",
   "execution_count": 2,
   "metadata": {
    "collapsed": true
   },
   "outputs": [],
   "source": [
    "def eval_pred(predictor, X, y, K=3):\n",
    "    #scores = cross_val_score(pred, X, y, cv = 3)\n",
    "    scores = skcv.cross_val_score(predictor, X, y, scoring='accuracy', cv=5)\n",
    "    print('C-V score =', np.mean(scores), '+/-', np.std(scores))"
   ]
  },
  {
   "cell_type": "code",
   "execution_count": 3,
   "metadata": {
    "collapsed": true
   },
   "outputs": [],
   "source": [
    "def report(grid_scores, n_top=3):\n",
    "    top_scores = sorted(grid_scores, key=itemgetter(1), reverse=True)[:n_top]\n",
    "    for i, score in enumerate(top_scores):\n",
    "        print(\"Model with rank: {0}\".format(i + 1))\n",
    "        print(\"Mean validation score: {0:.3f} (std: {1:.3f})\".format(\n",
    "              score.mean_validation_score,\n",
    "              np.std(score.cv_validation_scores)))\n",
    "        print(\"Parameters: {0}\".format(score.parameters))\n",
    "        print(\"\")"
   ]
  },
  {
   "cell_type": "code",
   "execution_count": 4,
   "metadata": {
    "collapsed": true
   },
   "outputs": [],
   "source": [
    "def score(gtruth, pred):\n",
    "    diff = gtruth - pred\n",
    "    return np.sqrt(np.mean(np.square(diff)))"
   ]
  },
  {
   "cell_type": "code",
   "execution_count": 5,
   "metadata": {
    "collapsed": false
   },
   "outputs": [
    {
     "name": "stdout",
     "output_type": "stream",
     "text": [
      "(1000, 15) (1000,) (3000, 15)\n"
     ]
    }
   ],
   "source": [
    "X = pd.read_csv('train.csv')\n",
    "del X['Id']\n",
    "y = X.y\n",
    "del X['y']\n",
    "pd.DataFrame(X).head()\n",
    "X_test = pd.read_csv('test.csv')\n",
    "del X_test['Id']\n",
    "\n",
    "print(X.shape, y.shape, X_test.shape)\n"
   ]
  },
  {
   "cell_type": "code",
   "execution_count": 6,
   "metadata": {
    "collapsed": false,
    "scrolled": true
   },
   "outputs": [
    {
     "name": "stdout",
     "output_type": "stream",
     "text": [
      "Fitting 3 folds for each of 56 candidates, totalling 168 fits\n"
     ]
    },
    {
     "name": "stderr",
     "output_type": "stream",
     "text": [
      "[Parallel(n_jobs=-1)]: Done  42 tasks      | elapsed:    5.7s\n",
      "[Parallel(n_jobs=-1)]: Done 168 out of 168 | elapsed:   43.4s finished\n"
     ]
    },
    {
     "name": "stdout",
     "output_type": "stream",
     "text": [
      "[LibSVM][LibSVM]Best score: 0.914\n",
      "Best params: {'svm__C': 0.10000000000000001, 'pf__degree': 2, 'feature_selection__threshold': 0.72857142857142865}\n"
     ]
    }
   ],
   "source": [
    "#normalise the data\n",
    "scaler= skpr.StandardScaler(with_mean=True, with_std=True, copy=True)\n",
    "X_scaled = scaler.fit_transform(X)\n",
    "\n",
    "\n",
    "\n",
    "\n",
    "# build pipeline to train\n",
    "\n",
    "\n",
    "a = [100]\n",
    "\n",
    "\n",
    "\n",
    "\n",
    "polynomial_features = PolynomialFeatures(include_bias=True)\n",
    "\n",
    "svm = SVC(C=1.0, kernel='linear', gamma='auto', coef0=0.0, shrinking=True, probability=False, tol=0.001, cache_size=200, \n",
    "          class_weight=None, verbose=True, max_iter=-1, decision_function_shape='ovr', random_state=None)\n",
    "sfm = SelectFromModel(svm, prefit=False)\n",
    "\n",
    "estimators = Pipeline([('pf', polynomial_features),\n",
    "                             ('feature_selection', sfm),('svm', svm)])\n",
    "parameters = {'svm__C':np.logspace(-3,3,7),#'svm__degree':[2,3,4],\n",
    "              'feature_selection__threshold':np.linspace(0.3,0.9,8),'pf__degree':[2], }\n",
    "\n",
    "\n",
    "clf = grid_search.GridSearchCV(estimators, param_grid=parameters, n_jobs=-1, verbose=1)\n",
    "clf.fit(X_scaled,y)\n",
    "\n",
    "print(\"Best score: %0.3f\" % clf.best_score_)\n",
    "print(\"Best params:\",  clf.best_params_)\n",
    "\n",
    "\n",
    "\n",
    "#eval_pred(clf, X, y, K=3)"
   ]
  },
  {
   "cell_type": "code",
   "execution_count": 7,
   "metadata": {
    "collapsed": false
   },
   "outputs": [
    {
     "name": "stdout",
     "output_type": "stream",
     "text": [
      "[mean: 0.91400, std: 0.00993, params: {'svm__C': 0.10000000000000001, 'pf__degree': 2, 'feature_selection__threshold': 0.72857142857142865}, mean: 0.91000, std: 0.01305, params: {'svm__C': 0.10000000000000001, 'pf__degree': 2, 'feature_selection__threshold': 0.81428571428571428}, mean: 0.91000, std: 0.00437, params: {'svm__C': 1.0, 'pf__degree': 2, 'feature_selection__threshold': 0.81428571428571428}, mean: 0.91000, std: 0.01235, params: {'svm__C': 1000.0, 'pf__degree': 2, 'feature_selection__threshold': 0.90000000000000002}, mean: 0.90900, std: 0.01169, params: {'svm__C': 1.0, 'pf__degree': 2, 'feature_selection__threshold': 0.72857142857142865}, mean: 0.90900, std: 0.00719, params: {'svm__C': 10.0, 'pf__degree': 2, 'feature_selection__threshold': 0.81428571428571428}, mean: 0.90900, std: 0.01506, params: {'svm__C': 0.10000000000000001, 'pf__degree': 2, 'feature_selection__threshold': 0.90000000000000002}, mean: 0.90900, std: 0.01361, params: {'svm__C': 100.0, 'pf__degree': 2, 'feature_selection__threshold': 0.90000000000000002}, mean: 0.90800, std: 0.01642, params: {'svm__C': 0.10000000000000001, 'pf__degree': 2, 'feature_selection__threshold': 0.55714285714285716}, mean: 0.90800, std: 0.01814, params: {'svm__C': 0.01, 'pf__degree': 2, 'feature_selection__threshold': 0.81428571428571428}]\n",
      "[2 1 1 ..., 0 2 1]\n"
     ]
    }
   ],
   "source": [
    "# normalise X_test data\n",
    "\n",
    "clf.grid_scores_.sort(key=lambda x: x.mean_validation_score,\n",
    "    reverse=True)\n",
    "print(clf.grid_scores_[0:10])\n",
    "\n",
    "X_test_scaled = scaler.transform(X_test)\n",
    "print (clf.predict(X_test_scaled))"
   ]
  },
  {
   "cell_type": "code",
   "execution_count": 172,
   "metadata": {
    "collapsed": false
   },
   "outputs": [],
   "source": [
    "sub = pd.read_csv(\"sample.csv\")\n",
    "sub['y'] = clf.predict(X_test_scaled)\n",
    "sub.head()\n",
    "sub.to_csv('test_basic.csv', index = False)"
   ]
  },
  {
   "cell_type": "code",
   "execution_count": null,
   "metadata": {
    "collapsed": true
   },
   "outputs": [],
   "source": []
  }
 ],
 "metadata": {
  "kernelspec": {
   "display_name": "Python 3",
   "language": "python",
   "name": "python3"
  },
  "language_info": {
   "codemirror_mode": {
    "name": "ipython",
    "version": 3
   },
   "file_extension": ".py",
   "mimetype": "text/x-python",
   "name": "python",
   "nbconvert_exporter": "python",
   "pygments_lexer": "ipython3",
   "version": "3.5.1"
  }
 },
 "nbformat": 4,
 "nbformat_minor": 0
}
