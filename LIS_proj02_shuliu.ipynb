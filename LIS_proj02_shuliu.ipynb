{
 "cells": [
  {
   "cell_type": "code",
   "execution_count": 72,
   "metadata": {
    "collapsed": true
   },
   "outputs": [],
   "source": [
    "%matplotlib inline\n",
    "from __future__ import print_function\n",
    "import pandas as pd\n",
    "from sklearn.ensemble import AdaBoostClassifier, GradientBoostingClassifier, ExtraTreesClassifier\n",
    "from sklearn.svm import SVC\n",
    "from sklearn.pipeline import Pipeline\n",
    "#from sklearn.cross_validation import cross_val_score, KFold, StratifiedKFold\n",
    "from sklearn.metrics import confusion_matrix\n",
    "from scipy.stats import sem\n",
    "from sklearn.preprocessing import PolynomialFeatures\n",
    "import math\n",
    "import numpy as np\n",
    "import matplotlib.pyplot as plt\n",
    "from sklearn.feature_selection import SelectFromModel, SelectKBest, chi2\n",
    "\n",
    "# Contains linear models, e.g., linear regression, ridge regression, LASSO, etc.\n",
    "import sklearn.linear_model as sklin\n",
    "# Provides train-test split, cross-validation, etc.\n",
    "import sklearn.cross_validation as skcv\n",
    "# Provides grid search functionality\n",
    "import sklearn.grid_search as skgs\n",
    "# For data normalization\n",
    "import sklearn.preprocessing as skpr\n",
    "# Allows us to create custom scoring functions\n",
    "import sklearn.metrics as skmet\n",
    "from sklearn import grid_search"
   ]
  },
  {
   "cell_type": "code",
   "execution_count": 2,
   "metadata": {
    "collapsed": true
   },
   "outputs": [],
   "source": [
    "def eval_pred(predictor, X, y, K=3):\n",
    "    #scores = cross_val_score(pred, X, y, cv = 3)\n",
    "    scores = skcv.cross_val_score(predictor, X, y, scoring='accuracy', cv=5)\n",
    "    print('C-V score =', np.mean(scores), '+/-', np.std(scores))"
   ]
  },
  {
   "cell_type": "code",
   "execution_count": 3,
   "metadata": {
    "collapsed": true
   },
   "outputs": [],
   "source": [
    "def report(grid_scores, n_top=3):\n",
    "    top_scores = sorted(grid_scores, key=itemgetter(1), reverse=True)[:n_top]\n",
    "    for i, score in enumerate(top_scores):\n",
    "        print(\"Model with rank: {0}\".format(i + 1))\n",
    "        print(\"Mean validation score: {0:.3f} (std: {1:.3f})\".format(\n",
    "              score.mean_validation_score,\n",
    "              np.std(score.cv_validation_scores)))\n",
    "        print(\"Parameters: {0}\".format(score.parameters))\n",
    "        print(\"\")"
   ]
  },
  {
   "cell_type": "code",
   "execution_count": 4,
   "metadata": {
    "collapsed": true
   },
   "outputs": [],
   "source": [
    "def score(gtruth, pred):\n",
    "    diff = gtruth - pred\n",
    "    return np.sqrt(np.mean(np.square(diff)))"
   ]
  },
  {
   "cell_type": "code",
   "execution_count": 5,
   "metadata": {
    "collapsed": false
   },
   "outputs": [
    {
     "name": "stdout",
     "output_type": "stream",
     "text": [
      "(1000, 15) (1000,) (3000, 15)\n"
     ]
    }
   ],
   "source": [
    "X = pd.read_csv('train.csv')\n",
    "del X['Id']\n",
    "y = X.y\n",
    "del X['y']\n",
    "pd.DataFrame(X).head()\n",
    "X_test = pd.read_csv('test.csv')\n",
    "del X_test['Id']\n",
    "\n",
    "print(X.shape, y.shape, X_test.shape)\n"
   ]
  },
  {
   "cell_type": "code",
   "execution_count": 410,
   "metadata": {
    "collapsed": false
   },
   "outputs": [
    {
     "name": "stdout",
     "output_type": "stream",
     "text": [
      "Fitting 3 folds for each of 75 candidates, totalling 225 fits\n"
     ]
    },
    {
     "name": "stderr",
     "output_type": "stream",
     "text": [
      "[Parallel(n_jobs=-1)]: Done 144 tasks      | elapsed:    2.2s\n"
     ]
    },
    {
     "name": "stdout",
     "output_type": "stream",
     "text": [
      "[LibSVM]Best score: 0.932\n",
      "Best params: {'svm__C': 5, 'pf__interaction_only': False, 'svm__degree': 2, 'svm__gamma': 0.016142857142857143}\n",
      "value of variance threshold 30\n",
      "shape of X_new_scaled (1000, 7)\n"
     ]
    },
    {
     "name": "stderr",
     "output_type": "stream",
     "text": [
      "[Parallel(n_jobs=-1)]: Done 225 out of 225 | elapsed:    3.1s finished\n"
     ]
    }
   ],
   "source": [
    "#normalise the data\n",
    "from sklearn.feature_selection import VarianceThreshold\n",
    "scaler= skpr.StandardScaler(with_mean=True, with_std=True, copy=True)\n",
    "X_scaled = scaler.fit_transform(X)\n",
    "# build pipeline to train\n",
    "a = [100]\n",
    "polynomial_features = PolynomialFeatures(include_bias=True, interaction_only=False, degree = 2)\n",
    "\n",
    "svm = SVC(C=1.0, kernel='rbf', gamma='auto', coef0=0.0, shrinking=True, probability=False, tol=0.001, cache_size=200, \n",
    "         class_weight=None, verbose=True, max_iter=-1, decision_function_shape='ovr', random_state=None, degree = 2)\n",
    "\n",
    "sfm = SelectFromModel(svm, prefit=False)\n",
    "#25 0.929\n",
    "#5 0.927\n",
    "#70 0.924\n",
    "#66 0.927\n",
    "thres_value = 30\n",
    "selector = VarianceThreshold(thres_value)\n",
    "X_new = selector.fit_transform(X)\n",
    "X_new_scaled = scaler.fit_transform(X_new)\n",
    "estimators = Pipeline([('pf', polynomial_features),\n",
    "                             #('feature_selection', sfm),\n",
    "                       ('svm', svm)])\n",
    "parameters = {'svm__C':\n",
    "              [1,2,3,4,5],\n",
    "              #np.logspace(-3,3,7),\n",
    "              #'svm__degree':[2,3,4],\n",
    "              #'feature_selection__threshold':np.linspace(0.3,0.9,8),\n",
    "              'pf__interaction_only':[False], 'svm__gamma':\n",
    "              #[0.0085]\n",
    "              np.linspace(0.015,0.017,15),\n",
    "              'svm__degree':\n",
    "              [2]\n",
    "              #[]\n",
    "              ,}\n",
    "\n",
    "clf = grid_search.GridSearchCV(estimators, param_grid=parameters, n_jobs=-1, verbose=1)\n",
    "clf.fit(X_new_scaled,y)\n",
    "\n",
    "print(\"Best score: %0.3f\" % clf.best_score_)\n",
    "print(\"Best params:\",  clf.best_params_)\n",
    "print(\"value of variance threshold\", thres_value)\n",
    "print(\"shape of X_new_scaled\", X_new_scaled.shape)\n",
    "\n",
    "#eval_pred(clf, X, y, K=3)"
   ]
  },
  {
   "cell_type": "code",
   "execution_count": 411,
   "metadata": {
    "collapsed": false
   },
   "outputs": [
    {
     "name": "stdout",
     "output_type": "stream",
     "text": [
      "[mean: 0.93200, std: 0.00997, params: {'svm__C': 5, 'pf__interaction_only': False, 'svm__degree': 2, 'svm__gamma': 0.016142857142857143}, mean: 0.93200, std: 0.00997, params: {'svm__C': 5, 'pf__interaction_only': False, 'svm__degree': 2, 'svm__gamma': 0.016285714285714285}, mean: 0.93200, std: 0.00997, params: {'svm__C': 5, 'pf__interaction_only': False, 'svm__degree': 2, 'svm__gamma': 0.016428571428571428}, mean: 0.93200, std: 0.00997, params: {'svm__C': 5, 'pf__interaction_only': False, 'svm__degree': 2, 'svm__gamma': 0.016571428571428574}, mean: 0.93100, std: 0.00890, params: {'svm__C': 4, 'pf__interaction_only': False, 'svm__degree': 2, 'svm__gamma': 0.016714285714285716}, mean: 0.93100, std: 0.00890, params: {'svm__C': 4, 'pf__interaction_only': False, 'svm__degree': 2, 'svm__gamma': 0.016857142857142859}, mean: 0.93100, std: 0.00890, params: {'svm__C': 4, 'pf__interaction_only': False, 'svm__degree': 2, 'svm__gamma': 0.017000000000000001}, mean: 0.93100, std: 0.00890, params: {'svm__C': 5, 'pf__interaction_only': False, 'svm__degree': 2, 'svm__gamma': 0.015714285714285715}, mean: 0.93100, std: 0.00890, params: {'svm__C': 5, 'pf__interaction_only': False, 'svm__degree': 2, 'svm__gamma': 0.015857142857142858}, mean: 0.93100, std: 0.00890, params: {'svm__C': 5, 'pf__interaction_only': False, 'svm__degree': 2, 'svm__gamma': 0.016}]\n",
      "shape of X_test_scaled (3000, 7)\n",
      "[2 1 1 ..., 0 2 1]\n"
     ]
    }
   ],
   "source": [
    "# normalise X_test data\n",
    "\n",
    "clf.grid_scores_.sort(key=lambda x: x.mean_validation_score,\n",
    "    reverse=True)\n",
    "print(clf.grid_scores_[0:10])\n",
    "\n",
    "thres_value = 30\n",
    "selector = VarianceThreshold(thres_value)\n",
    "X_test_new = selector.fit_transform(X_test)\n",
    "X_test_new_scaled = scaler.fit_transform(X_test_new)\n",
    "X_test_scaled = X_test_new_scaled\n",
    "print(\"shape of X_test_scaled\", X_test_scaled.shape)\n",
    "print (clf.predict(X_test_scaled))"
   ]
  },
  {
   "cell_type": "code",
   "execution_count": 412,
   "metadata": {
    "collapsed": false
   },
   "outputs": [],
   "source": [
    "sub = pd.read_csv(\"sample.csv\")\n",
    "sub['y'] = clf.predict(X_test_scaled)\n",
    "sub.head()\n",
    "sub.to_csv('test_basic.csv', index = False)"
   ]
  },
  {
   "cell_type": "code",
   "execution_count": 300,
   "metadata": {
    "collapsed": false
   },
   "outputs": [],
   "source": [
    "selector = VarianceThreshold(66)"
   ]
  },
  {
   "cell_type": "code",
   "execution_count": 301,
   "metadata": {
    "collapsed": false
   },
   "outputs": [],
   "source": [
    "X_varth = selector.fit_transform(X)"
   ]
  },
  {
   "cell_type": "code",
   "execution_count": 302,
   "metadata": {
    "collapsed": false
   },
   "outputs": [
    {
     "data": {
      "text/plain": [
       "(1000, 6)"
      ]
     },
     "execution_count": 302,
     "metadata": {},
     "output_type": "execute_result"
    }
   ],
   "source": [
    "X_varth.shape"
   ]
  },
  {
   "cell_type": "code",
   "execution_count": 80,
   "metadata": {
    "collapsed": false
   },
   "outputs": [
    {
     "data": {
      "text/plain": [
       "(1000, 15)"
      ]
     },
     "execution_count": 80,
     "metadata": {},
     "output_type": "execute_result"
    }
   ],
   "source": [
    "X_pos.shape\n",
    "X_new = SelectKBest(chi2, k=2).fit_transform(X_pos, y)"
   ]
  },
  {
   "cell_type": "markdown",
   "metadata": {},
   "source": [
    "# This is just useless test"
   ]
  },
  {
   "cell_type": "code",
   "execution_count": 118,
   "metadata": {
    "collapsed": false
   },
   "outputs": [
    {
     "name": "stdout",
     "output_type": "stream",
     "text": [
      "Fitting 3 folds for each of 11 candidates, totalling 33 fits\n",
      "Best score: 0.889\n",
      "Best params: {'ng__n_neighbors': 11}\n"
     ]
    },
    {
     "name": "stderr",
     "output_type": "stream",
     "text": [
      "[Parallel(n_jobs=-1)]: Done  33 out of  33 | elapsed:    0.2s finished\n"
     ]
    }
   ],
   "source": [
    "from sklearn.neighbors import KNeighborsClassifier\n",
    "neigh = KNeighborsClassifier(n_neighbors=3)\n",
    "#neigh.fit(X, y) \n",
    "\n",
    "estimators = Pipeline([('ng', neigh)])\n",
    "parameters = {'ng__n_neighbors':[5,6,7,8,9,10,11,12,13,14,15] }\n",
    "\n",
    "clf = grid_search.GridSearchCV(estimators, param_grid=parameters, n_jobs=-1, verbose=1)\n",
    "clf.fit(X_scaled,y)\n",
    "\n",
    "print(\"Best score: %0.3f\" % clf.best_score_)\n",
    "print(\"Best params:\",  clf.best_params_)"
   ]
  }
 ],
 "metadata": {
  "kernelspec": {
   "display_name": "Python 3",
   "language": "python",
   "name": "python3"
  },
  "language_info": {
   "codemirror_mode": {
    "name": "ipython",
    "version": 3
   },
   "file_extension": ".py",
   "mimetype": "text/x-python",
   "name": "python",
   "nbconvert_exporter": "python",
   "pygments_lexer": "ipython3",
   "version": "3.5.1"
  }
 },
 "nbformat": 4,
 "nbformat_minor": 0
}
